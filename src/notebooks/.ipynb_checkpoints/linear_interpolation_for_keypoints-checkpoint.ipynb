{
 "cells": [
  {
   "cell_type": "code",
   "execution_count": 1,
   "metadata": {},
   "outputs": [],
   "source": [
    "import json\n",
    "import sys\n",
    "import cv2\n",
    "import numpy as np\n",
    "import math\n",
    "import os, sys, shutil\n",
    "import argparse\n",
    "from matplotlib import pyplot as plt\n",
    "from sklearn.datasets.samples_generator import make_blobs\n",
    "from sklearn.cluster import KMeans\n",
    "from sklearn.model_selection import train_test_split\n",
    "from sklearn.preprocessing import StandardScaler\n",
    "from sklearn.cluster import KMeans\n",
    "import os, sys, shutil"
   ]
  },
  {
   "cell_type": "code",
   "execution_count": 176,
   "metadata": {},
   "outputs": [],
   "source": [
    "class Point(object):\n",
    "    def __init__(self, x, y, c):\n",
    "        self.x = x     # x_coordinate of the point\n",
    "        self.y = y     # y_coordinate of the point\n",
    "        self.c = c     # confidence of the point\n",
    "\n",
    "    def __repr__(self):\n",
    "        return 'x: '+ str(self.x) + \", y: \" +str(self.y) + \", c: \" + str(self.c)"
   ]
  },
  {
   "cell_type": "code",
   "execution_count": 177,
   "metadata": {},
   "outputs": [],
   "source": [
    "json_dirs = []\n",
    "json_dirs.append('../../../titanik_hayir/output1/')\n",
    "json_dirs.append('../../../titanik_hayir/output2/')\n",
    "json_dirs.append('../../../titanik_hayir/output3/')\n",
    "\n",
    "list_of_items = []\n",
    "for dir in json_dirs:\n",
    "    list_of_items.append(os.listdir(dir))"
   ]
  },
  {
   "cell_type": "code",
   "execution_count": 178,
   "metadata": {},
   "outputs": [],
   "source": [
    "json_arrays = []\n",
    "\n",
    "# read jsons of 1st video\n",
    "for item_index in range(len(list_of_items)):\n",
    "    \n",
    "    json_temp = []\n",
    "    for i in range(len(list_of_items[item_index])):\n",
    "        json_file = str(i) + '.json'\n",
    "\n",
    "        with open(json_dirs[item_index] + json_file) as file:\n",
    "            json_data = json.loads(file.read())\n",
    "            json_temp.append(json_data)\n",
    "            \n",
    "    json_arrays.append(json_temp)"
   ]
  },
  {
   "cell_type": "code",
   "execution_count": 179,
   "metadata": {},
   "outputs": [],
   "source": [
    "result_arrs = []\n",
    "label_arrs = []"
   ]
  },
  {
   "cell_type": "code",
   "execution_count": 180,
   "metadata": {},
   "outputs": [],
   "source": [
    "for json_arr in json_arrays:\n",
    "    result_arr = []\n",
    "    label_arr = []\n",
    "    for json in range(0, len(json_arr)):\n",
    "        person = json_arr[json]['people'][0]\n",
    "        pose = person['pose_keypoints_2d']\n",
    "        face = person['face_keypoints_2d']\n",
    "        left_hand = person['hand_left_keypoints_2d']\n",
    "        right_hand = person['hand_right_keypoints_2d']\n",
    "\n",
    "        ########## EXTRACT POSE POINTS  ##########\n",
    "        i = 0\n",
    "        pose_points = []\n",
    "        for i in range(0, len(pose), 3):\n",
    "            temp = Point(pose[i],pose[i+1],pose[i+2])\n",
    "            pose_points.append(temp)    # add this point to pose point array\n",
    "\n",
    "        ########## EXTRACT FACE POINTS  ##########\n",
    "        i = 0\n",
    "        face_points = []\n",
    "        for i in range(0, len(face), 3):\n",
    "            temp = Point(face[i],face[i+1],face[i+2])\n",
    "            face_points.append(temp)    # add this point to pose point array\n",
    "            i+=3\n",
    "\n",
    "        ########## EXTRACT LEFT HAND POINTS  ##########\n",
    "        i = 0\n",
    "        lhand_points = []\n",
    "        for i in range(0, len(left_hand), 3):\n",
    "            temp = Point(left_hand[i],left_hand[i+1],left_hand[i+2])\n",
    "            lhand_points.append(temp)    # add this point to pose point array\n",
    "            i+=3\n",
    "\n",
    "\n",
    "        ########## EXTRACT RIGHT HAND POINTS  ##########\n",
    "        i = 0\n",
    "        rhand_points = []\n",
    "        for i in range(0, len(right_hand), 3):\n",
    "            temp = Point(right_hand[i],right_hand[i+1],right_hand[i+2])\n",
    "            rhand_points.append(temp)    # add this point to pose point array\n",
    "            i+=3\n",
    "\n",
    "        # neck: 1, nose: 0,\n",
    "        # left: 4, right: 7\n",
    "        \n",
    "        # CALCULATE MOUTH SHAPE\n",
    "        mouth_left = math.sqrt((math.pow(face_points[61].x-face_points[67].x,2)+math.pow(face_points[61].y-face_points[67].y,2)))\n",
    "        mouth_mid = math.sqrt((math.pow(face_points[62].x-face_points[66].x,2)+math.pow(face_points[62].y-face_points[66].y,2)))\n",
    "        mouth_right = math.sqrt((math.pow(face_points[63].x-face_points[65].x,2)+math.pow(face_points[63].y-face_points[65].y,2)))\n",
    "        mouth_horizontal = math.sqrt((math.pow(face_points[60].x-face_points[64].x,2)+math.pow(face_points[60].y-face_points[64].y,2)))\n",
    "\n",
    "        if rhand_points[4].c < threshold:\n",
    "            r_thumb = 0\n",
    "\n",
    "        if rhand_points[8].c < threshold:\n",
    "            r_index = 0\n",
    "\n",
    "        if rhand_points[12].c < threshold:\n",
    "            r_middle = 0\n",
    "\n",
    "        if rhand_points[16].c < threshold:\n",
    "            r_ring = 0\n",
    "\n",
    "        if rhand_points[20].c < threshold:\n",
    "            r_pinky = 0\n",
    "\n",
    "        # CALCULATE LEFT DISTANCE\n",
    "        left_to_neck = math.sqrt((math.pow(pose_points[4].x-pose_points[1].x,2)+math.pow(pose_points[4].y-pose_points[1].y,2)))\n",
    "        left_to_nose = math.sqrt((math.pow(pose_points[4].x-pose_points[0].x,2)+math.pow(pose_points[4].y-pose_points[0].y,2)))\n",
    "\n",
    "        threshold = 0.1\n",
    "        if pose_points[4].c < threshold:\n",
    "            left_to_neck = 0\n",
    "            left_to_nose = 0\n",
    "\n",
    "        # CALCULATE RIGHT DISTANCE\n",
    "        right_to_neck = math.sqrt((math.pow(pose_points[7].x-pose_points[1].x,2)+math.pow(pose_points[7].y-pose_points[1].y,2)))\n",
    "        right_to_nose = math.sqrt((math.pow(pose_points[7].x-pose_points[0].x,2)+math.pow(pose_points[7].y-pose_points[0].y,2)))\n",
    "        if pose_points[4].c < threshold:\n",
    "            right_to_neck = 0\n",
    "            right_to_nose = 0\n",
    "\n",
    "        # CALCULATE LEFT FINGERS\n",
    "        l_thumb = math.sqrt((math.pow(lhand_points[4].x-rhand_points[0].x,2)+math.pow(lhand_points[4].y-rhand_points[0].y,2)))\n",
    "        l_index = math.sqrt((math.pow(lhand_points[8].x-rhand_points[0].x,2)+math.pow(lhand_points[8].y-rhand_points[0].y,2)))\n",
    "        l_middle = math.sqrt((math.pow(lhand_points[12].x-rhand_points[0].x,2)+math.pow(lhand_points[12].y-rhand_points[0].y,2)))\n",
    "        l_ring = math.sqrt((math.pow(lhand_points[16].x-rhand_points[0].x,2)+math.pow(lhand_points[16].y-rhand_points[0].y,2)))\n",
    "        l_pinky = math.sqrt((math.pow(lhand_points[20].x-rhand_points[0].x,2)+math.pow(lhand_points[20].y-rhand_points[0].y,2)))\n",
    "\n",
    "        if lhand_points[4].c < threshold:\n",
    "            l_thumb = 0\n",
    "\n",
    "        if lhand_points[8].c < threshold:\n",
    "            l_index = 0\n",
    "\n",
    "        if lhand_points[12].c < threshold:\n",
    "            l_middle = 0\n",
    "\n",
    "        if lhand_points[16].c < threshold:\n",
    "            l_ring = 0\n",
    "\n",
    "        if lhand_points[20].c < threshold:\n",
    "            l_pinky = 0\n",
    "\n",
    "\n",
    "        # CALCULATE RIGHT FINGERS\n",
    "        r_thumb = math.sqrt((math.pow(rhand_points[4].x-rhand_points[0].x,2)+math.pow(rhand_points[4].y-rhand_points[0].y,2)))\n",
    "        r_index = math.sqrt((math.pow(rhand_points[8].x-rhand_points[0].x,2)+math.pow(rhand_points[8].y-rhand_points[0].y,2)))\n",
    "        r_middle = math.sqrt((math.pow(rhand_points[12].x-rhand_points[0].x,2)+math.pow(rhand_points[12].y-rhand_points[0].y,2)))\n",
    "        r_ring = math.sqrt((math.pow(rhand_points[16].x-rhand_points[0].x,2)+math.pow(rhand_points[16].y-rhand_points[0].y,2)))\n",
    "        r_pinky = math.sqrt((math.pow(rhand_points[20].x-rhand_points[0].x,2)+math.pow(rhand_points[20].y-rhand_points[0].y,2)))\n",
    "\n",
    "        if rhand_points[4].c < threshold:\n",
    "            r_thumb = 0\n",
    "\n",
    "        if rhand_points[8].c < threshold:\n",
    "            r_index = 0\n",
    "\n",
    "        if rhand_points[12].c < threshold:\n",
    "            r_middle = 0\n",
    "\n",
    "        if rhand_points[16].c < threshold:\n",
    "            r_ring = 0\n",
    "\n",
    "        if rhand_points[20].c < threshold:\n",
    "            r_pinky = 0\n",
    "\n",
    "        \n",
    "        temp_arr1 = [left_to_neck, left_to_nose, right_to_neck, right_to_nose, l_thumb, l_index, l_middle, l_ring, l_pinky, r_thumb, r_index, r_middle, r_ring, r_pinky]\n",
    "\n",
    "        temp_arr2 = [left_to_neck, left_to_nose, l_thumb, l_index, l_middle, l_ring, l_pinky, mouth_left, mouth_mid, mouth_right, mouth_horizontal]\n",
    "\n",
    "        temp_arr3 = [left_to_neck, left_to_nose, right_to_neck, right_to_nose]\n",
    "        \n",
    "        temp_arr4 = [left_to_neck, left_to_nose, l_thumb, l_index, l_middle, l_ring, l_pinky]\n",
    "\n",
    "        # decide which feature vector to work\n",
    "        result_arr.append(temp_arr4)\n",
    "        label_arr.append(json)\n",
    "        \n",
    "    result_arrs.append(result_arr)\n",
    "    label_arrs.append(label_arr)\n",
    "    "
   ]
  },
  {
   "cell_type": "code",
   "execution_count": 181,
   "metadata": {},
   "outputs": [
    {
     "name": "stdout",
     "output_type": "stream",
     "text": [
      "136\n",
      "236\n",
      "149\n"
     ]
    }
   ],
   "source": [
    "print(len(result_arrs[0]))\n",
    "print(len(result_arrs[1]))\n",
    "print(len(result_arrs[2]))"
   ]
  },
  {
   "cell_type": "code",
   "execution_count": 182,
   "metadata": {},
   "outputs": [],
   "source": [
    "for k in range(len(result_arrs)):\n",
    "    for feature in range(len(result_arrs[0][0])):\n",
    "        for index in range(len(result_arrs[k])):\n",
    "            value = result_arrs[k][index][feature]\n",
    "\n",
    "            if value == 0:\n",
    "                for next_index in range(index + 1, len(result_arrs[k])):\n",
    "                    next_value = result_arrs[k][next_index][feature]\n",
    "\n",
    "                    if(next_value != 0):\n",
    "                        linear_down_val = result_arrs[k][index - 1][feature]\n",
    "                        linear_up_val = result_arrs[k][next_index][feature]\n",
    "\n",
    "                        linear_index_diff = next_index - (index - 1)\n",
    "                        linear_val_diff_per_index = (linear_up_val - linear_down_val) / linear_index_diff\n",
    "\n",
    "                        for fix_index in range(index, next_index):\n",
    "                            linear_down_val += linear_val_diff_per_index\n",
    "                            result_arrs[k][fix_index][feature] = linear_down_val\n",
    "\n",
    "                        break\n",
    "    "
   ]
  },
  {
   "cell_type": "code",
   "execution_count": 183,
   "metadata": {},
   "outputs": [
    {
     "name": "stdout",
     "output_type": "stream",
     "text": [
      "132, 3\n",
      "130, 4\n",
      "130, 5\n",
      "130, 6\n",
      "231, 2\n",
      "231, 3\n",
      "231, 4\n",
      "231, 5\n",
      "231, 6\n"
     ]
    }
   ],
   "source": [
    "point_errors = []\n",
    "for result_arr in result_arrs:\n",
    "    point_error = []\n",
    "    for feature in range(len(result_arr[0])):\n",
    "        for index in range(len(result_arr)):\n",
    "            if result_arr[index][feature] == 0:\n",
    "                print(str(index)+\", \"+str(feature))\n",
    "                point_error.append(index)\n",
    "                break\n",
    "                \n",
    "    point_errors.append(point_error)"
   ]
  },
  {
   "cell_type": "code",
   "execution_count": 184,
   "metadata": {},
   "outputs": [
    {
     "name": "stdout",
     "output_type": "stream",
     "text": [
      "[[132, 130, 130, 130], [231, 231, 231, 231, 231], []]\n"
     ]
    }
   ],
   "source": [
    "print(point_errors)"
   ]
  },
  {
   "cell_type": "code",
   "execution_count": 185,
   "metadata": {},
   "outputs": [],
   "source": [
    "result_arrs = np.asarray(result_arrs)\n",
    "label_arrs = np.asarray(label_arrs)\n",
    "\n",
    "for i in range(len(result_arrs)):\n",
    "    result_arrs[i] = np.asarray(result_arrs[i])\n",
    "\n",
    "\n",
    "for i in range(len(point_errors)):\n",
    "    if(len(point_errors[i]) != 0):\n",
    "        slice_point = min(point_errors[i])\n",
    "\n",
    "        label_arrs[i] = label_arrs[i][0:slice_point]\n",
    "        result_arrs[i] = result_arrs[i][0:slice_point]"
   ]
  },
  {
   "cell_type": "code",
   "execution_count": 186,
   "metadata": {},
   "outputs": [
    {
     "name": "stdout",
     "output_type": "stream",
     "text": [
      "130\n",
      "231\n",
      "149\n"
     ]
    }
   ],
   "source": [
    "print(len(result_arrs[0]))\n",
    "print(len(result_arrs[1]))\n",
    "print(len(result_arrs[2]))"
   ]
  },
  {
   "cell_type": "code",
   "execution_count": 191,
   "metadata": {},
   "outputs": [
    {
     "data": {
      "image/png": "[encoded data removed]",
      "text/plain": [
       "<Figure size 432x288 with 1 Axes>"
      ]
     },
     "metadata": {
      "needs_background": "light"
     },
     "output_type": "display_data"
    },
    {
     "data": {
      "image/png": "[encoded data removed]",
      "text/plain": [
       "<Figure size 432x288 with 1 Axes>"
      ]
     },
     "metadata": {
      "needs_background": "light"
     },
     "output_type": "display_data"
    },
    {
     "data": {
      "image/png": "[encoded data removed]",
      "text/plain": [
       "<Figure size 432x288 with 1 Axes>"
      ]
     },
     "metadata": {
      "needs_background": "light"
     },
     "output_type": "display_data"
    }
   ],
   "source": [
    "for result_arr in result_arrs:\n",
    "    x_axis = result_arr[:,0]  # left distance\n",
    "    y_axis = result_arr[:,1]  # right distance\n",
    "\n",
    "    # Plotting\n",
    "    plt.scatter(x_axis, y_axis)\n",
    "    plt.show()"
   ]
  },
  {
   "cell_type": "code",
   "execution_count": 192,
   "metadata": {},
   "outputs": [],
   "source": [
    "def normalize(v):\n",
    "    norm=np.linalg.norm(v, ord=1)\n",
    "    if norm==0:\n",
    "        norm=np.finfo(v.dtype).eps\n",
    "    return v/norm"
   ]
  },
  {
   "cell_type": "code",
   "execution_count": 193,
   "metadata": {},
   "outputs": [],
   "source": [
    "def normalize2(arr):\n",
    "    max_value = max([max(arr[i]) for i in range(len(arr))])\n",
    "    min_value = min([min(arr[i]) for i in range(len(arr))])\n",
    "    d = (arr-min_value) / (max_value - min_value)\n",
    "    return d"
   ]
  },
  {
   "cell_type": "code",
   "execution_count": 194,
   "metadata": {},
   "outputs": [],
   "source": [
    "for i in range(len(result_arrs)):\n",
    "    result_arrs[i] = normalize2(result_arrs[i])"
   ]
  },
  {
   "cell_type": "code",
   "execution_count": 195,
   "metadata": {},
   "outputs": [
    {
     "name": "stdout",
     "output_type": "stream",
     "text": [
      "[[0.26809129 0.4392958  0.63844261 ... 0.66161486 0.63890446 0.60093847]\n",
      " [0.41670017 0.59401346 0.72490192 ... 0.62866092 0.62080705 0.60790181]\n",
      " [0.41683426 0.59247468 0.67889799 ... 0.65761069 0.62587019 0.59219523]\n",
      " ...\n",
      " [0.11591625 0.28912977 0.36164212 ... 0.32533275 0.30789062 0.27890845]\n",
      " [0.11949877 0.28458089 0.35690562 ... 0.31604873 0.29760494 0.27055356]\n",
      " [0.11948241 0.28457814 0.35670576 ... 0.31410567 0.29871049 0.27191569]]\n",
      "1.0\n",
      "0.0\n"
     ]
    }
   ],
   "source": [
    "print(result_arrs[2])\n",
    "max_value = max([max(result_arrs[0][i]) for i in range(len(result_arrs[0]))])\n",
    "min_value = min([min(result_arrs[0][i]) for i in range(len(result_arrs[0]))])\n",
    "print(max_value)\n",
    "print(min_value)"
   ]
  },
  {
   "cell_type": "code",
   "execution_count": 196,
   "metadata": {},
   "outputs": [
    {
     "data": {
      "image/png": "[encoded data removed]",
      "text/plain": [
       "<Figure size 432x288 with 1 Axes>"
      ]
     },
     "metadata": {
      "needs_background": "light"
     },
     "output_type": "display_data"
    }
   ],
   "source": [
    "bars = ('hayir1', 'hayir2', 'hayir3')\n",
    "y_pos = np.arange(len(bars))\n",
    "heights = []\n",
    "for i in range(len(result_arrs)):\n",
    "    heights.append(len(result_arrs[i]))\n",
    "    \n",
    "# Create bars\n",
    "plt.bar(y_pos, heights)\n",
    " \n",
    "# Create names on the x-axis\n",
    "plt.xticks(y_pos, bars)\n",
    " \n",
    "# Show graphic\n",
    "plt.show()\n"
   ]
  },
  {
   "cell_type": "code",
   "execution_count": 2,
   "metadata": {},
   "outputs": [
    {
     "ename": "ImportError",
     "evalue": "No module named librosa",
     "output_type": "error",
     "traceback": [
      "\u001b[0;31m---------------------------------------------------------------------------\u001b[0m",
      "\u001b[0;31mImportError\u001b[0m                               Traceback (most recent call last)",
      "\u001b[0;32m<ipython-input-2-3529dd295c8b>\u001b[0m in \u001b[0;36m<module>\u001b[0;34m()\u001b[0m\n\u001b[1;32m      3\u001b[0m \u001b[0;32mimport\u001b[0m \u001b[0mnumpy\u001b[0m \u001b[0;32mas\u001b[0m \u001b[0mnp\u001b[0m\u001b[0;34m\u001b[0m\u001b[0m\n\u001b[1;32m      4\u001b[0m \u001b[0;32mimport\u001b[0m \u001b[0mscipy\u001b[0m\u001b[0;34m.\u001b[0m\u001b[0mspatial\u001b[0m\u001b[0;34m\u001b[0m\u001b[0m\n\u001b[0;32m----> 5\u001b[0;31m \u001b[0;32mimport\u001b[0m \u001b[0mlibrosa\u001b[0m\u001b[0;34m\u001b[0m\u001b[0m\n\u001b[0m\u001b[1;32m      6\u001b[0m \u001b[0;32mfrom\u001b[0m \u001b[0mnumba\u001b[0m \u001b[0;32mimport\u001b[0m \u001b[0mjit\u001b[0m\u001b[0;34m\u001b[0m\u001b[0m\n\u001b[1;32m      7\u001b[0m \u001b[0;32mimport\u001b[0m \u001b[0mmatplotlib\u001b[0m\u001b[0;34m.\u001b[0m\u001b[0mpyplot\u001b[0m \u001b[0;32mas\u001b[0m \u001b[0mplt\u001b[0m\u001b[0;34m\u001b[0m\u001b[0m\n",
      "\u001b[0;31mImportError\u001b[0m: No module named librosa"
     ]
    }
   ],
   "source": [
    "import os\n",
    "import sys\n",
    "import numpy as np\n",
    "import scipy.spatial\n",
    "import librosa\n",
    "from numba import jit\n",
    "import matplotlib.pyplot as plt\n",
    "from matplotlib import patches\n",
    "from matplotlib.ticker import FuncFormatter\n",
    "\n",
    "sys.path.append('..')\n",
    "%matplotlib inline"
   ]
  },
  {
   "cell_type": "code",
   "execution_count": 210,
   "metadata": {},
   "outputs": [],
   "source": [
    "temp0 = result_arrs[0][100:115]\n",
    "temp1 = result_arrs[1][:159]"
   ]
  },
  {
   "cell_type": "code",
   "execution_count": 211,
   "metadata": {},
   "outputs": [
    {
     "name": "stdout",
     "output_type": "stream",
     "text": [
      "Cost matrix C =\n",
      "[[0.62782548 0.47497201 0.47120999 ... 0.57112442 0.53664535 0.50178404]\n",
      " [0.63984434 0.48939654 0.48293211 ... 0.57482476 0.53975657 0.50197151]\n",
      " [0.6547615  0.48582102 0.4695864  ... 0.57247342 0.54006953 0.50643419]\n",
      " ...\n",
      " [1.02691477 0.76166743 0.68419405 ... 0.91020487 0.90615509 0.92711088]\n",
      " [1.00443284 0.74012051 0.66406862 ... 0.88977304 0.88465849 0.90431871]\n",
      " [0.98422718 0.72192489 0.6484903  ... 0.87344322 0.86749225 0.88627861]]\n",
      "(15, 159)\n"
     ]
    }
   ],
   "source": [
    "C = scipy.spatial.distance.cdist(temp0, temp1, 'euclidean')\n",
    "print('Cost matrix C =', C, sep='\\n')\n",
    "print(C.shape)"
   ]
  },
  {
   "cell_type": "code",
   "execution_count": 212,
   "metadata": {},
   "outputs": [
    {
     "name": "stdout",
     "output_type": "stream",
     "text": [
      "b* = 47\n"
     ]
    }
   ],
   "source": [
    "@jit(nopython=True)\n",
    "def compute_accumulated_cost_matrix(C):\n",
    "    \"\"\"Given the cost matrix, compute the accumulated cost matrix for subsequence dynamic time warping with\n",
    "    step sizes {(1, 0), (0, 1), (1, 1)}\n",
    "\n",
    "    Notebook: C7/C7S2_SubsequenceDTW.ipynb\n",
    "\n",
    "    Args:\n",
    "        C: cost matrix\n",
    "\n",
    "    Returns:\n",
    "        D: Accumulated cost matrix\n",
    "    \"\"\"\n",
    "    N, M = C.shape\n",
    "    D = np.zeros((N, M))\n",
    "    D[:, 0] = np.cumsum(C[:, 0])\n",
    "    D[0, :] = C[0, :]\n",
    "    for n in range(1, N):\n",
    "        for m in range(1, M):\n",
    "            D[n, m] = C[n, m] + min(D[n-1, m], D[n, m-1], D[n-1, m-1])\n",
    "    return D\n",
    "\n",
    "D =  compute_accumulated_cost_matrix(C)\n",
    "print('b* =', D[-1, :].argmin())"
   ]
  },
  {
   "cell_type": "code",
   "execution_count": 213,
   "metadata": {},
   "outputs": [
    {
     "name": "stdout",
     "output_type": "stream",
     "text": [
      "Optimal warping path P = [[0, 45], [1, 45], [2, 45], [3, 45], [4, 45], [5, 46], [6, 47], [7, 47], [8, 47], [9, 47], [10, 47], [11, 47], [12, 47], [13, 47], [14, 47]]\n"
     ]
    }
   ],
   "source": [
    "@jit(nopython=True)\n",
    "def compute_optimal_warping_path(D):\n",
    "    \"\"\"Given an accumulated cost matrix, Compute the warping path for subsequence dynamic time warping with\n",
    "    step sizes {(1, 0), (0, 1), (1, 1)}\n",
    "\n",
    "    Notebook: C7/C7S2_SubsequenceDTW.ipynb\n",
    "\n",
    "    Args:\n",
    "        D: Accumulated cost matrix\n",
    "\n",
    "    Returns\n",
    "        P: Warping path (list of index pairs)\n",
    "    \"\"\"\n",
    "    N, M = D.shape\n",
    "    n = N - 1\n",
    "    m = D[N - 1, :].argmin()\n",
    "    P = [(n, m)]\n",
    "\n",
    "    while n > 0:\n",
    "        if m == 0:\n",
    "            cell = (n - 1, 0)\n",
    "        else:\n",
    "            val = min(D[n-1, m-1], D[n-1, m], D[n, m-1])\n",
    "            if val == D[n-1, m-1]:\n",
    "                cell = (n-1, m-1)\n",
    "            elif val == D[n-1, m]:\n",
    "                cell = (n-1, m)\n",
    "            else:\n",
    "                cell = (n, m-1)\n",
    "        P.append(cell)\n",
    "        n, m = cell\n",
    "    P.reverse()\n",
    "    return np.array(P)\n",
    "        \n",
    "P = compute_optimal_warping_path(D)\n",
    "print('Optimal warping path P =', P.tolist())"
   ]
  },
  {
   "cell_type": "code",
   "execution_count": 96,
   "metadata": {},
   "outputs": [
    {
     "data": {
      "image/png": "[encoded data removed]",
      "text/plain": [
       "<Figure size 432x288 with 1 Axes>"
      ]
     },
     "metadata": {
      "needs_background": "light"
     },
     "output_type": "display_data"
    }
   ],
   "source": [
    "x = []\n",
    "y = []\n",
    "path = P.tolist()\n",
    "for i in range(len(path)):\n",
    "    x.append(path[i][0])\n",
    "    y.append(path[i][1])\n",
    "\n",
    "from matplotlib import pyplot as plt\n",
    "\n",
    "plt.plot(x,y)\n",
    "plt.show()"
   ]
  },
  {
   "cell_type": "code",
   "execution_count": 65,
   "metadata": {},
   "outputs": [],
   "source": [
    "from scipy.spatial.distance import euclidean\n",
    "from fastdtw import fastdtw"
   ]
  },
  {
   "cell_type": "code",
   "execution_count": 66,
   "metadata": {},
   "outputs": [
    {
     "name": "stdout",
     "output_type": "stream",
     "text": [
      "152.58046029651885\n",
      "[(0, 0), (1, 1), (1, 2), (1, 3), (1, 4), (1, 5), (1, 6), (1, 7), (1, 8), (1, 9), (1, 10), (1, 11), (1, 12), (1, 13), (1, 14), (1, 15), (1, 16), (1, 17), (1, 18), (1, 19), (1, 20), (1, 21), (1, 22), (1, 23), (1, 24), (1, 25), (1, 26), (1, 27), (1, 28), (1, 29), (1, 30), (1, 31), (1, 32), (1, 33), (1, 34), (1, 35), (1, 36), (1, 37), (1, 38), (1, 39), (1, 40), (1, 41), (1, 42), (1, 43), (1, 44), (1, 45), (1, 46), (1, 47), (1, 48), (1, 49), (1, 50), (1, 51), (1, 52), (1, 53), (1, 54), (1, 55), (1, 56), (1, 57), (1, 58), (1, 59), (1, 60), (1, 61), (1, 62), (1, 63), (1, 64), (1, 65), (1, 66), (1, 67), (1, 68), (1, 69), (1, 70), (1, 71), (1, 72), (1, 73), (1, 74), (1, 75), (1, 76), (1, 77), (1, 78), (1, 79), (1, 80), (1, 81), (1, 82), (1, 83), (1, 84), (1, 85), (1, 86), (2, 87), (2, 88), (2, 89), (2, 90), (2, 91), (2, 92), (2, 93), (2, 94), (2, 95), (2, 96), (2, 97), (2, 98), (2, 99), (2, 100), (2, 101), (2, 102), (2, 103), (2, 104), (2, 105), (2, 106), (2, 107), (2, 108), (2, 109), (2, 110), (2, 111), (2, 112), (2, 113), (2, 114), (2, 115), (2, 116), (2, 117), (2, 118), (2, 119), (2, 120), (2, 121), (2, 122), (2, 123), (2, 124), (2, 125), (2, 126), (2, 127), (2, 128), (2, 129), (2, 130), (2, 131), (2, 132), (2, 133), (2, 134), (2, 135), (2, 136), (2, 137), (2, 138), (2, 139), (2, 140), (2, 141), (2, 142), (2, 143), (2, 144), (2, 145), (2, 146), (2, 147), (2, 148), (2, 149), (2, 150), (2, 151), (2, 152), (2, 153), (2, 154), (2, 155), (2, 156), (2, 157), (2, 158), (2, 159), (2, 160), (2, 161), (2, 162), (2, 163), (2, 164), (2, 165), (2, 166), (2, 167), (2, 168), (2, 169), (2, 170), (2, 171), (2, 172), (2, 173), (2, 174), (2, 175), (2, 176), (2, 177), (2, 178), (2, 179), (2, 180), (2, 181), (2, 182), (2, 183), (2, 184), (2, 185), (2, 186), (2, 187), (2, 188), (2, 189), (3, 190), (4, 191), (4, 192), (4, 193), (4, 194), (4, 195), (4, 196), (4, 197), (4, 198), (4, 199), (4, 200), (4, 201), (4, 202), (4, 203), (4, 204), (4, 205), (4, 206), (4, 207), (4, 208), (4, 209), (5, 210), (6, 211), (7, 212), (8, 213), (9, 214), (10, 215), (11, 216), (12, 217), (13, 218), (14, 219), (15, 220), (16, 221), (17, 222), (18, 223), (19, 224), (20, 225), (21, 226), (22, 227), (23, 228), (24, 229), (25, 230)]\n"
     ]
    }
   ],
   "source": [
    "distance, path = fastdtw(temp0, result_arrs[1], dist=euclidean)\n",
    "print(distance)\n",
    "print(path)"
   ]
  },
  {
   "cell_type": "code",
   "execution_count": 67,
   "metadata": {},
   "outputs": [
    {
     "data": {
      "image/png": "[encoded data removed]",
      "text/plain": [
       "<Figure size 432x288 with 1 Axes>"
      ]
     },
     "metadata": {
      "needs_background": "light"
     },
     "output_type": "display_data"
    }
   ],
   "source": [
    "x = []\n",
    "y = []\n",
    "for i in range(len(path)):\n",
    "    x.append(path[i][0])\n",
    "    y.append(path[i][1])\n",
    "\n",
    "from matplotlib import pyplot as plt\n",
    "\n",
    "plt.plot(x,y)\n",
    "plt.show()"
   ]
  },
  {
   "cell_type": "code",
   "execution_count": 209,
   "metadata": {},
   "outputs": [
    {
     "name": "stdout",
     "output_type": "stream",
     "text": [
      "Cost matrix C =\n",
      "[[6. 1. 3. 0. 0. 5. 5. 5. 2. 0. 1. 6. 2. 0.]\n",
      " [1. 4. 8. 5. 5. 0. 0. 0. 7. 5. 6. 1. 7. 5.]\n",
      " [8. 3. 1. 2. 2. 7. 7. 7. 0. 2. 1. 8. 0. 2.]]\n",
      "b* = 8\n",
      "Optimal warping path P = [[0, 4], [1, 5], [1, 6], [1, 7], [2, 8]]\n"
     ]
    }
   ],
   "source": [
    "X = np.array([3, 8, 1])\n",
    "Y = np.array([9, 4, 0, 3, 3, 8, 8, 8, 1, 3, 2, 9, 1, 3])\n",
    "C = scipy.spatial.distance.cdist(X[:, np.newaxis], Y[:, np.newaxis], 'euclidean')\n",
    "print('Cost matrix C =', C, sep='\\n')\n",
    "D =  compute_accumulated_cost_matrix(C)\n",
    "print('b* =', D[-1, :].argmin())\n",
    "P = compute_optimal_warping_path(D)\n",
    "print('Optimal warping path P =', P.tolist())"
   ]
  },
  {
   "cell_type": "code",
   "execution_count": 214,
   "metadata": {},
   "outputs": [
    {
     "data": {
      "text/plain": [
       "array([[3],\n",
       "       [8],\n",
       "       [1]])"
      ]
     },
     "execution_count": 214,
     "metadata": {},
     "output_type": "execute_result"
    }
   ],
   "source": [
    "X[:, np.newaxis]"
   ]
  },
  {
   "cell_type": "code",
   "execution_count": null,
   "metadata": {},
   "outputs": [],
   "source": []
  },
  {
   "cell_type": "code",
   "execution_count": null,
   "metadata": {},
   "outputs": [],
   "source": []
  },
  {
   "cell_type": "code",
   "execution_count": null,
   "metadata": {},
   "outputs": [],
   "source": []
  },
  {
   "cell_type": "code",
   "execution_count": null,
   "metadata": {},
   "outputs": [],
   "source": []
  },
  {
   "cell_type": "code",
   "execution_count": null,
   "metadata": {},
   "outputs": [],
   "source": []
  },
  {
   "cell_type": "code",
   "execution_count": null,
   "metadata": {},
   "outputs": [],
   "source": []
  }
 ],
 "metadata": {
  "kernelspec": {
   "display_name": "Python 2",
   "language": "python",
   "name": "python2"
  },
  "language_info": {
   "codemirror_mode": {
    "name": "ipython",
    "version": 2
   },
   "file_extension": ".py",
   "mimetype": "text/x-python",
   "name": "python",
   "nbconvert_exporter": "python",
   "pygments_lexer": "ipython2",
   "version": "2.7.16"
  }
 },
 "nbformat": 4,
 "nbformat_minor": 2
}
