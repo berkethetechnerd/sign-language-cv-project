{
 "cells": [
  {
   "cell_type": "code",
   "execution_count": 1,
   "metadata": {},
   "outputs": [],
   "source": [
    "import json\n",
    "import math\n",
    "import os, sys, shutil\n",
    "import numpy as np\n",
    "from matplotlib import pyplot as plt"
   ]
  },
  {
   "cell_type": "code",
   "execution_count": 2,
   "metadata": {},
   "outputs": [],
   "source": [
    "class Point(object):\n",
    "    def __init__(self, x, y, c):\n",
    "        self.x = x     # x_coordinate of the point\n",
    "        self.y = y     # y_coordinate of the point\n",
    "        self.c = c     # confidence of the point\n",
    "\n",
    "    def __repr__(self):\n",
    "        return 'x: '+ str(self.x) + \", y: \" +str(self.y) + \", c: \" + str(self.c)"
   ]
  },
  {
   "cell_type": "markdown",
   "metadata": {},
   "source": [
    "### Get input video json directories\n",
    "Append directories to list"
   ]
  },
  {
   "cell_type": "code",
   "execution_count": 3,
   "metadata": {},
   "outputs": [],
   "source": [
    "base_dir = '/Users/berkeesmer/Desktop/titanik_data/MVI_8191_JSON/json_664_697/'\n",
    "json_dir = sorted(['{}/{}'.format(base_dir, file_name) for file_name in os.listdir(base_dir)])"
   ]
  },
  {
   "cell_type": "markdown",
   "metadata": {},
   "source": [
    "### Read Json Files"
   ]
  },
  {
   "cell_type": "code",
   "execution_count": 4,
   "metadata": {},
   "outputs": [],
   "source": [
    "json_data_array = []\n",
    "\n",
    "# read jsons\n",
    "for item_index in range(len(json_dir)):\n",
    "    json_path = json_dir[item_index]\n",
    "    with open(json_path) as json_file:\n",
    "        json_data = json.loads(json_file.read())\n",
    "        json_data_array.append(json_data)"
   ]
  },
  {
   "cell_type": "markdown",
   "metadata": {},
   "source": [
    "### Extract Features\n",
    "<br>\n",
    "<br>\n",
    "<div class=\"row\" style=\"content: \"\";\n",
    "  clear: both;\n",
    "  display: table;\">\n",
    "  <div class=\"column\">\n",
    "        <img src=\"https://github.com/CMU-Perceptual-Computing-Lab/openpose/raw/master/doc/media/keypoints_pose_25.png\" style=\"float: left;\n",
    "  width: 30%;\n",
    "  padding: 5px;\">\n",
    "    </div>\n",
    "    <div class=\"column\">\n",
    "        <img src=\"https://github.com/CMU-Perceptual-Computing-Lab/openpose/raw/master/doc/media/keypoints_hand.png\" style=\"float: right;\n",
    "  width: 40%;\n",
    "  padding: 5px;\">\n",
    "    </div>\n",
    "</div>\n",
    "\n",
    "<img src=\"https://github.com/CMU-Perceptual-Computing-Lab/openpose/raw/master/doc/media/keypoints_face.png\" style=\"\n",
    "  width: 50%;\">"
   ]
  },
  {
   "cell_type": "code",
   "execution_count": 5,
   "metadata": {},
   "outputs": [],
   "source": [
    "def isFingerActive(p1, p2, p3):\n",
    "    # p2 is the cross point\n",
    "    len_p1_p2 = math.sqrt(math.pow(p1.x-p2.x, 2) + math.pow(p1.y-p2.y, 2))\n",
    "    len_p1_p3 = math.sqrt(math.pow(p1.x-p3.x, 2) + math.pow(p1.y-p3.y, 2))\n",
    "    len_p2_p3 = math.sqrt(math.pow(p2.x-p3.x, 2) + math.pow(p2.y-p3.y, 2))\n",
    "        \n",
    "    try:\n",
    "        angle_in_radians = math.acos((math.pow(len_p1_p2, 2) + math.pow(len_p2_p3, 2) - math.pow(len_p1_p3, 2)) / (2 * len_p1_p2 * len_p2_p3))\n",
    "        angle_in_degrees = math.degrees(angle_in_radians)\n",
    "    \n",
    "        return 1 if angle_in_degrees > 120 else 0\n",
    "    \n",
    "    except ValueError:\n",
    "        return 1\n",
    "    \n",
    "    except ZeroDivisionError:\n",
    "        return 1"
   ]
  },
  {
   "cell_type": "code",
   "execution_count": 6,
   "metadata": {},
   "outputs": [],
   "source": [
    "def isFingerActive2(p, c):\n",
    "    len_p_c = math.sqrt(math.pow(p.x-c.x, 2) + math.pow(p.y-c.y, 2))\n",
    "    return 1 if len_p_c > 45 else 0"
   ]
  },
  {
   "cell_type": "code",
   "execution_count": 7,
   "metadata": {},
   "outputs": [],
   "source": [
    "result_arrs = []\n",
    "\n",
    "for json_index in range(len(json_data_array)):\n",
    "    person = json_data_array[json_index]['people'][0]\n",
    "    left_hand = person['hand_left_keypoints_2d']\n",
    "    right_hand = person['hand_right_keypoints_2d']\n",
    "\n",
    "    ########## EXTRACT LEFT HAND POINTS  ##########\n",
    "    i = 0\n",
    "    lhand_points = []\n",
    "    for i in range(0, len(left_hand), 3):\n",
    "        point = Point(left_hand[i], left_hand[i+1], left_hand[i+2])\n",
    "        lhand_points.append(point)\n",
    "        \n",
    "    ########## EXTRACT RIGHT HAND POINTS  ##########\n",
    "    i = 0\n",
    "    rhand_points = []\n",
    "    for i in range(0, len(right_hand), 3):\n",
    "        point = Point(right_hand[i], right_hand[i+1], right_hand[i+2])\n",
    "        rhand_points.append(point)\n",
    "\n",
    "    confidence_threshold = 0.01\n",
    "\n",
    "    # CALCULATE LEFT FINGERS\n",
    "    l_thumb_angle = isFingerActive2(lhand_points[4], lhand_points[0])\n",
    "    l_index_angle = isFingerActive2(lhand_points[8], lhand_points[0])\n",
    "    l_middle_angle = isFingerActive2(lhand_points[12], lhand_points[0])\n",
    "    l_ring_angle = isFingerActive2(lhand_points[16], lhand_points[0])\n",
    "    l_pinky_angle = isFingerActive2(lhand_points[20], lhand_points[0])\n",
    "\n",
    "    \"\"\" Left Thresholding\n",
    "    if lhand_points[4].c < threshold:\n",
    "        l_thumb = 0\n",
    "\n",
    "    if lhand_points[8].c < threshold:\n",
    "        l_index = 0\n",
    "\n",
    "    if lhand_points[12].c < threshold:\n",
    "        l_middle = 0\n",
    "\n",
    "    if lhand_points[16].c < threshold:\n",
    "        l_ring = 0\n",
    "\n",
    "    if lhand_points[20].c < threshold:\n",
    "        l_pinky = 0\n",
    "    \"\"\"\n",
    "\n",
    "    # CALCULATE RIGHT FINGERS\n",
    "    r_thumb_angle = isFingerActive2(rhand_points[4], rhand_points[0])\n",
    "    r_index_angle = isFingerActive2(rhand_points[8], rhand_points[0])\n",
    "    r_middle_angle = isFingerActive2(rhand_points[12], rhand_points[0])\n",
    "    r_ring_angle = isFingerActive2(rhand_points[16], rhand_points[0])\n",
    "    r_pinky_angle = isFingerActive2(rhand_points[20], rhand_points[0])\n",
    "    \n",
    "    \"\"\" Right Thresholding\n",
    "    if rhand_points[4].c < threshold:\n",
    "        r_thumb = 0\n",
    "\n",
    "    if rhand_points[8].c < threshold:\n",
    "        r_index = 0\n",
    "\n",
    "    if rhand_points[12].c < threshold:\n",
    "        r_middle = 0\n",
    "\n",
    "    if rhand_points[16].c < threshold:\n",
    "        r_ring = 0\n",
    "\n",
    "    if rhand_points[20].c < threshold:\n",
    "        r_pinky = 0\n",
    "    \"\"\"\n",
    "    \n",
    "    json_left_angles = [l_thumb_angle, l_index_angle, l_middle_angle, l_ring_angle, l_pinky_angle]\n",
    "    json_right_angles = [r_thumb_angle, r_index_angle, r_middle_angle, r_ring_angle, r_pinky_angle]    \n",
    "    result_arrs.append((json_left_angles.count(1), json_right_angles.count(1)))"
   ]
  },
  {
   "cell_type": "code",
   "execution_count": 8,
   "metadata": {},
   "outputs": [
    {
     "name": "stdout",
     "output_type": "stream",
     "text": [
      "Frame 664: (5, 5)\n",
      "Frame 665: (5, 4)\n",
      "Frame 666: (5, 5)\n",
      "Frame 667: (5, 5)\n",
      "Frame 668: (5, 5)\n",
      "Frame 669: (5, 5)\n",
      "Frame 670: (5, 5)\n",
      "Frame 671: (5, 5)\n",
      "Frame 672: (5, 3)\n",
      "Frame 673: (5, 2)\n",
      "Frame 674: (5, 2)\n",
      "Frame 675: (5, 3)\n",
      "Frame 676: (4, 3)\n",
      "Frame 677: (5, 3)\n",
      "Frame 678: (4, 3)\n",
      "Frame 679: (4, 3)\n",
      "Frame 680: (5, 1)\n",
      "Frame 681: (5, 5)\n",
      "Frame 682: (5, 5)\n",
      "Frame 683: (5, 5)\n",
      "Frame 684: (5, 5)\n",
      "Frame 685: (5, 5)\n",
      "Frame 686: (3, 5)\n",
      "Frame 687: (2, 5)\n",
      "Frame 688: (5, 5)\n",
      "Frame 689: (5, 5)\n",
      "Frame 690: (5, 5)\n",
      "Frame 691: (5, 5)\n",
      "Frame 692: (5, 5)\n",
      "Frame 693: (4, 5)\n",
      "Frame 694: (5, 5)\n",
      "Frame 695: (5, 5)\n",
      "Frame 696: (5, 5)\n",
      "Frame 697: (5, 5)\n"
     ]
    }
   ],
   "source": [
    "start_index = 664\n",
    "\n",
    "for i in range(len(json_data_array)):\n",
    "    print(\"Frame {}: {}\".format(start_index+i, result_arrs[i]))"
   ]
  },
  {
   "cell_type": "code",
   "execution_count": null,
   "metadata": {},
   "outputs": [],
   "source": []
  }
 ],
 "metadata": {
  "kernelspec": {
   "display_name": "Python 2",
   "language": "python",
   "name": "python2"
  },
  "language_info": {
   "codemirror_mode": {
    "name": "ipython",
    "version": 2
   },
   "file_extension": ".py",
   "mimetype": "text/x-python",
   "name": "python",
   "nbconvert_exporter": "python",
   "pygments_lexer": "ipython2",
   "version": "2.7.16"
  }
 },
 "nbformat": 4,
 "nbformat_minor": 2
}
