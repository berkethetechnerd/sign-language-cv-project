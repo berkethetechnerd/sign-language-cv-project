{
 "cells": [
  {
   "cell_type": "code",
   "execution_count": 1,
   "metadata": {},
   "outputs": [],
   "source": [
    "import json\n",
    "import sys\n",
    "import cv2\n",
    "import numpy as np\n",
    "import math\n",
    "import os, sys, shutil\n",
    "import argparse\n",
    "from matplotlib import pyplot as plt\n",
    "from sklearn.datasets.samples_generator import make_blobs\n",
    "from sklearn.cluster import KMeans\n",
    "from sklearn.model_selection import train_test_split\n",
    "from sklearn.preprocessing import StandardScaler\n",
    "from sklearn.cluster import KMeans\n",
    "import os, sys, shutil"
   ]
  },
  {
   "cell_type": "code",
   "execution_count": 234,
   "metadata": {},
   "outputs": [],
   "source": [
    "class Point(object):\n",
    "    def __init__(self, x, y, c):\n",
    "        self.x = x     # x_coordinate of the point\n",
    "        self.y = y     # y_coordinate of the point\n",
    "        self.c = c     # confidence of the point\n",
    "\n",
    "    def __repr__(self):\n",
    "        return 'x: '+ str(self.x) + \", y: \" +str(self.y) + \", c: \" + str(self.c)"
   ]
  },
  {
   "cell_type": "markdown",
   "metadata": {},
   "source": [
    "### Get input video json directories\n",
    "Append directories to list"
   ]
  },
  {
   "cell_type": "code",
   "execution_count": 235,
   "metadata": {},
   "outputs": [],
   "source": [
    "json_dirs = []\n",
    "json_dirs.append('../../../titanik_hayir/output1/')\n",
    "json_dirs.append('../../../titanik_hayir/output2/')\n",
    "json_dirs.append('../../../titanik_hayir/output3/')\n",
    "\n",
    "list_of_items = []\n",
    "for dir in json_dirs:\n",
    "    list_of_items.append(os.listdir(dir))"
   ]
  },
  {
   "cell_type": "markdown",
   "metadata": {},
   "source": [
    "### Read Json Files"
   ]
  },
  {
   "cell_type": "code",
   "execution_count": 236,
   "metadata": {},
   "outputs": [],
   "source": [
    "json_arrays = []\n",
    "\n",
    "# read jsons of 1st video\n",
    "for item_index in range(len(list_of_items)):\n",
    "    \n",
    "    json_temp = []\n",
    "    for i in range(len(list_of_items[item_index])):\n",
    "        json_file = str(i) + '.json'\n",
    "\n",
    "        with open(json_dirs[item_index] + json_file) as file:\n",
    "            json_data = json.loads(file.read())\n",
    "            json_temp.append(json_data)\n",
    "            \n",
    "    json_arrays.append(json_temp)"
   ]
  },
  {
   "cell_type": "markdown",
   "metadata": {},
   "source": [
    "### Extract Features\n",
    "<br>\n",
    "<br>\n",
    "<div class=\"row\" style=\"content: \"\";\n",
    "  clear: both;\n",
    "  display: table;\">\n",
    "  <div class=\"column\">\n",
    "        <img src=\"https://github.com/CMU-Perceptual-Computing-Lab/openpose/raw/master/doc/media/keypoints_pose_25.png\" style=\"float: left;\n",
    "  width: 30%;\n",
    "  padding: 5px;\">\n",
    "    </div>\n",
    "    <div class=\"column\">\n",
    "        <img src=\"https://github.com/CMU-Perceptual-Computing-Lab/openpose/raw/master/doc/media/keypoints_hand.png\" style=\"float: right;\n",
    "  width: 40%;\n",
    "  padding: 5px;\">\n",
    "    </div>\n",
    "</div>\n",
    "\n",
    "<img src=\"https://github.com/CMU-Perceptual-Computing-Lab/openpose/raw/master/doc/media/keypoints_face.png\" style=\"\n",
    "  width: 50%;\">"
   ]
  },
  {
   "cell_type": "code",
   "execution_count": 238,
   "metadata": {},
   "outputs": [],
   "source": [
    "result_arrs = []\n",
    "label_arrs = []\n",
    "\n",
    "for json_arr in json_arrays:\n",
    "    result_arr = []\n",
    "    label_arr = []\n",
    "    for json in range(0, len(json_arr)):\n",
    "        person = json_arr[json]['people'][0]\n",
    "        pose = person['pose_keypoints_2d']\n",
    "        face = person['face_keypoints_2d']\n",
    "        left_hand = person['hand_left_keypoints_2d']\n",
    "        right_hand = person['hand_right_keypoints_2d']\n",
    "\n",
    "        ########## EXTRACT POSE POINTS  ##########\n",
    "        i = 0\n",
    "        pose_points = []\n",
    "        for i in range(0, len(pose), 3):\n",
    "            temp = Point(pose[i],pose[i+1],pose[i+2])\n",
    "            pose_points.append(temp)    # add this point to pose point array\n",
    "\n",
    "        ########## EXTRACT FACE POINTS  ##########\n",
    "        i = 0\n",
    "        face_points = []\n",
    "        for i in range(0, len(face), 3):\n",
    "            temp = Point(face[i],face[i+1],face[i+2])\n",
    "            face_points.append(temp)    # add this point to pose point array\n",
    "            i+=3\n",
    "\n",
    "        ########## EXTRACT LEFT HAND POINTS  ##########\n",
    "        i = 0\n",
    "        lhand_points = []\n",
    "        for i in range(0, len(left_hand), 3):\n",
    "            temp = Point(left_hand[i],left_hand[i+1],left_hand[i+2])\n",
    "            lhand_points.append(temp)    # add this point to pose point array\n",
    "            i+=3\n",
    "\n",
    "\n",
    "        ########## EXTRACT RIGHT HAND POINTS  ##########\n",
    "        i = 0\n",
    "        rhand_points = []\n",
    "        for i in range(0, len(right_hand), 3):\n",
    "            temp = Point(right_hand[i],right_hand[i+1],right_hand[i+2])\n",
    "            rhand_points.append(temp)    # add this point to pose point array\n",
    "            i+=3\n",
    "\n",
    "        # neck: 1, nose: 0,\n",
    "        # left: 4, right: 7\n",
    "        \n",
    "        threshold = 0.01\n",
    "\n",
    "        # CALCULATE MOUTH SHAPE\n",
    "        mouth_left = math.sqrt((math.pow(face_points[61].x-face_points[67].x,2)+math.pow(face_points[61].y-face_points[67].y,2)))\n",
    "        mouth_mid = math.sqrt((math.pow(face_points[62].x-face_points[66].x,2)+math.pow(face_points[62].y-face_points[66].y,2)))\n",
    "        mouth_right = math.sqrt((math.pow(face_points[63].x-face_points[65].x,2)+math.pow(face_points[63].y-face_points[65].y,2)))\n",
    "        mouth_horizontal = math.sqrt((math.pow(face_points[60].x-face_points[64].x,2)+math.pow(face_points[60].y-face_points[64].y,2)))\n",
    "\n",
    "        if rhand_points[4].c < threshold:\n",
    "            r_thumb = 0\n",
    "\n",
    "        if rhand_points[8].c < threshold:\n",
    "            r_index = 0\n",
    "\n",
    "        if rhand_points[12].c < threshold:\n",
    "            r_middle = 0\n",
    "\n",
    "        if rhand_points[16].c < threshold:\n",
    "            r_ring = 0\n",
    "\n",
    "        if rhand_points[20].c < threshold:\n",
    "            r_pinky = 0\n",
    "\n",
    "        # CALCULATE LEFT DISTANCE\n",
    "        left_to_neck = math.sqrt((math.pow(pose_points[4].x-pose_points[1].x,2)+math.pow(pose_points[4].y-pose_points[1].y,2)))\n",
    "        left_to_nose = math.sqrt((math.pow(pose_points[4].x-pose_points[0].x,2)+math.pow(pose_points[4].y-pose_points[0].y,2)))\n",
    "\n",
    "        if pose_points[4].c < threshold:\n",
    "            left_to_neck = 0\n",
    "            left_to_nose = 0\n",
    "\n",
    "        # CALCULATE RIGHT DISTANCE\n",
    "        right_to_neck = math.sqrt((math.pow(pose_points[7].x-pose_points[1].x,2)+math.pow(pose_points[7].y-pose_points[1].y,2)))\n",
    "        right_to_nose = math.sqrt((math.pow(pose_points[7].x-pose_points[0].x,2)+math.pow(pose_points[7].y-pose_points[0].y,2)))\n",
    "        if pose_points[4].c < threshold:\n",
    "            right_to_neck = 0\n",
    "            right_to_nose = 0\n",
    "\n",
    "        # CALCULATE LEFT FINGERS\n",
    "        l_thumb = math.sqrt((math.pow(lhand_points[4].x-lhand_points[0].x,2)+math.pow(lhand_points[4].y-lhand_points[0].y,2)))\n",
    "        l_index = math.sqrt((math.pow(lhand_points[8].x-lhand_points[0].x,2)+math.pow(lhand_points[8].y-lhand_points[0].y,2)))\n",
    "        l_middle = math.sqrt((math.pow(lhand_points[12].x-lhand_points[0].x,2)+math.pow(lhand_points[12].y-lhand_points[0].y,2)))\n",
    "        l_ring = math.sqrt((math.pow(lhand_points[16].x-lhand_points[0].x,2)+math.pow(lhand_points[16].y-lhand_points[0].y,2)))\n",
    "        l_pinky = math.sqrt((math.pow(lhand_points[20].x-lhand_points[0].x,2)+math.pow(lhand_points[20].y-lhand_points[0].y,2)))\n",
    "\n",
    "        if lhand_points[4].c < threshold:\n",
    "            l_thumb = 0\n",
    "\n",
    "        if lhand_points[8].c < threshold:\n",
    "            l_index = 0\n",
    "\n",
    "        if lhand_points[12].c < threshold:\n",
    "            l_middle = 0\n",
    "\n",
    "        if lhand_points[16].c < threshold:\n",
    "            l_ring = 0\n",
    "\n",
    "        if lhand_points[20].c < threshold:\n",
    "            l_pinky = 0\n",
    "\n",
    "\n",
    "        # CALCULATE RIGHT FINGERS\n",
    "        r_thumb = math.sqrt((math.pow(rhand_points[4].x-rhand_points[0].x,2)+math.pow(rhand_points[4].y-rhand_points[0].y,2)))\n",
    "        r_index = math.sqrt((math.pow(rhand_points[8].x-rhand_points[0].x,2)+math.pow(rhand_points[8].y-rhand_points[0].y,2)))\n",
    "        r_middle = math.sqrt((math.pow(rhand_points[12].x-rhand_points[0].x,2)+math.pow(rhand_points[12].y-rhand_points[0].y,2)))\n",
    "        r_ring = math.sqrt((math.pow(rhand_points[16].x-rhand_points[0].x,2)+math.pow(rhand_points[16].y-rhand_points[0].y,2)))\n",
    "        r_pinky = math.sqrt((math.pow(rhand_points[20].x-rhand_points[0].x,2)+math.pow(rhand_points[20].y-rhand_points[0].y,2)))\n",
    "\n",
    "        if rhand_points[4].c < threshold:\n",
    "            r_thumb = 0\n",
    "\n",
    "        if rhand_points[8].c < threshold:\n",
    "            r_index = 0\n",
    "\n",
    "        if rhand_points[12].c < threshold:\n",
    "            r_middle = 0\n",
    "\n",
    "        if rhand_points[16].c < threshold:\n",
    "            r_ring = 0\n",
    "\n",
    "        if rhand_points[20].c < threshold:\n",
    "            r_pinky = 0\n",
    "\n",
    "        \n",
    "        temp_arr1 = [left_to_neck, left_to_nose, right_to_neck, right_to_nose, l_thumb, l_index, l_middle, l_ring, l_pinky, r_thumb, r_index, r_middle, r_ring, r_pinky]\n",
    "\n",
    "        temp_arr2 = [left_to_neck, left_to_nose, l_thumb, l_index, l_middle, l_ring, l_pinky, mouth_left, mouth_mid, mouth_right, mouth_horizontal]\n",
    "\n",
    "        temp_arr3 = [left_to_neck, left_to_nose, right_to_neck, right_to_nose]\n",
    "        \n",
    "        temp_arr4 = [left_to_neck, left_to_nose, l_thumb, l_index, l_middle, l_ring, l_pinky]\n",
    "        \n",
    "        temp_arr5 = [left_to_neck, left_to_nose]\n",
    "\n",
    "        # decide which feature vector to work\n",
    "        result_arr.append(temp_arr4)\n",
    "        label_arr.append(json)\n",
    "        \n",
    "    result_arrs.append(result_arr)\n",
    "    label_arrs.append(label_arr)\n",
    "    "
   ]
  },
  {
   "cell_type": "markdown",
   "metadata": {},
   "source": [
    "### Apply Interpolation\n",
    "\n",
    "<img src=\"https://upload.wikimedia.org/wikipedia/commons/thumb/d/dd/LinearInterpolation.svg/1200px-LinearInterpolation.svg.png\" width=\"25%\">"
   ]
  },
  {
   "cell_type": "code",
   "execution_count": 239,
   "metadata": {},
   "outputs": [],
   "source": [
    "for k in range(len(result_arrs)):\n",
    "    for feature in range(len(result_arrs[0][0])):\n",
    "        for index in range(len(result_arrs[k])):\n",
    "            value = result_arrs[k][index][feature]\n",
    "\n",
    "            if value == 0:\n",
    "                for next_index in range(index + 1, len(result_arrs[k])):\n",
    "                    next_value = result_arrs[k][next_index][feature]\n",
    "\n",
    "                    if(next_value != 0):\n",
    "                        linear_down_val = result_arrs[k][index - 1][feature]\n",
    "                        linear_up_val = result_arrs[k][next_index][feature]\n",
    "\n",
    "                        linear_index_diff = next_index - (index - 1)\n",
    "                        linear_val_diff_per_index = (linear_up_val - linear_down_val) / linear_index_diff\n",
    "\n",
    "                        for fix_index in range(index, next_index):\n",
    "                            linear_down_val += linear_val_diff_per_index\n",
    "                            result_arrs[k][fix_index][feature] = linear_down_val\n",
    "\n",
    "                        break\n",
    "    "
   ]
  },
  {
   "cell_type": "markdown",
   "metadata": {},
   "source": [
    "#### Handle zeros"
   ]
  },
  {
   "cell_type": "code",
   "execution_count": 240,
   "metadata": {},
   "outputs": [],
   "source": [
    "point_errors = []\n",
    "for result_arr in result_arrs:\n",
    "    point_error = []\n",
    "    for feature in range(len(result_arr[0])):\n",
    "        for index in range(len(result_arr)):\n",
    "            if result_arr[index][feature] == 0:\n",
    "                point_error.append(index)\n",
    "                break\n",
    "                \n",
    "    point_errors.append(point_error)"
   ]
  },
  {
   "cell_type": "code",
   "execution_count": 241,
   "metadata": {},
   "outputs": [
    {
     "name": "stdout",
     "output_type": "stream",
     "text": [
      "[[135], [], []]\n"
     ]
    }
   ],
   "source": [
    "print(point_errors)"
   ]
  },
  {
   "cell_type": "code",
   "execution_count": 242,
   "metadata": {},
   "outputs": [],
   "source": [
    "result_arrs = np.asarray(result_arrs)\n",
    "label_arrs = np.asarray(label_arrs)\n",
    "\n",
    "for i in range(len(result_arrs)):\n",
    "    result_arrs[i] = np.asarray(result_arrs[i])\n",
    "\n",
    "\n",
    "for i in range(len(point_errors)):\n",
    "    if(len(point_errors[i]) != 0):\n",
    "        slice_point = min(point_errors[i])\n",
    "\n",
    "        label_arrs[i] = label_arrs[i][0:slice_point]\n",
    "        result_arrs[i] = result_arrs[i][0:slice_point]"
   ]
  },
  {
   "cell_type": "markdown",
   "metadata": {},
   "source": [
    "#### Print shape of json arrays"
   ]
  },
  {
   "cell_type": "code",
   "execution_count": 243,
   "metadata": {},
   "outputs": [
    {
     "name": "stdout",
     "output_type": "stream",
     "text": [
      "135\n",
      "236\n",
      "149\n"
     ]
    }
   ],
   "source": [
    "print(len(result_arrs[0]))\n",
    "print(len(result_arrs[1]))\n",
    "print(len(result_arrs[2]))"
   ]
  },
  {
   "cell_type": "code",
   "execution_count": 244,
   "metadata": {},
   "outputs": [
    {
     "data": {
      "image/png": "[encoded data removed]",
      "text/plain": [
       "<Figure size 432x288 with 1 Axes>"
      ]
     },
     "metadata": {
      "needs_background": "light"
     },
     "output_type": "display_data"
    },
    {
     "data": {
      "image/png": "[encoded data removed]",
      "text/plain": [
       "<Figure size 432x288 with 1 Axes>"
      ]
     },
     "metadata": {
      "needs_background": "light"
     },
     "output_type": "display_data"
    },
    {
     "data": {
      "image/png": "[encoded data removed]",
      "text/plain": [
       "<Figure size 432x288 with 1 Axes>"
      ]
     },
     "metadata": {
      "needs_background": "light"
     },
     "output_type": "display_data"
    }
   ],
   "source": [
    "for result_arr in result_arrs:\n",
    "    x_axis = result_arr[:,0]  # left distance\n",
    "    y_axis = result_arr[:,1]  # right distance\n",
    "\n",
    "    # Plotting\n",
    "    plt.scatter(x_axis, y_axis)\n",
    "    plt.show()"
   ]
  },
  {
   "cell_type": "markdown",
   "metadata": {},
   "source": [
    "### Apply Normalization"
   ]
  },
  {
   "cell_type": "code",
   "execution_count": 245,
   "metadata": {},
   "outputs": [],
   "source": [
    "def normalize(v):\n",
    "    norm=np.linalg.norm(v, ord=1)\n",
    "    if norm==0:\n",
    "        norm=np.finfo(v.dtype).eps\n",
    "    return v/norm"
   ]
  },
  {
   "cell_type": "code",
   "execution_count": 247,
   "metadata": {},
   "outputs": [],
   "source": [
    "def normalize2(arr):\n",
    "    max_value = max([max(arr[i]) for i in range(len(arr))])\n",
    "    min_value = min([min(arr[i]) for i in range(len(arr))])\n",
    "    d = (arr-min_value) / (max_value - min_value)\n",
    "    return d"
   ]
  },
  {
   "cell_type": "code",
   "execution_count": 248,
   "metadata": {},
   "outputs": [],
   "source": [
    "#for i in range(len(result_arrs)):\n",
    "#    result_arrs[i] = normalize2(result_arrs[i])"
   ]
  },
  {
   "cell_type": "markdown",
   "metadata": {},
   "source": [
    "### Plot json sizes"
   ]
  },
  {
   "cell_type": "code",
   "execution_count": 249,
   "metadata": {},
   "outputs": [
    {
     "data": {
      "image/png": "[encoded data removed]",
      "text/plain": [
       "<Figure size 432x288 with 1 Axes>"
      ]
     },
     "metadata": {
      "needs_background": "light"
     },
     "output_type": "display_data"
    }
   ],
   "source": [
    "bars = ('hayir1', 'hayir2', 'hayir3')\n",
    "y_pos = np.arange(len(bars))\n",
    "heights = []\n",
    "for i in range(len(result_arrs)):\n",
    "    heights.append(len(result_arrs[i]))\n",
    "    \n",
    "# Create bars\n",
    "plt.bar(y_pos, heights)\n",
    " \n",
    "# Create names on the x-axis\n",
    "plt.xticks(y_pos, bars)\n",
    " \n",
    "# Show graphic\n",
    "plt.show()\n"
   ]
  },
  {
   "cell_type": "markdown",
   "metadata": {},
   "source": [
    "# Dynamic Time Warping\n",
    "\n",
    "<img src=\"https://www.audiolabs-erlangen.de/resources/MIR/FMP/data/C7/FMP_C7_F13+.png\" width=\"100%\">"
   ]
  },
  {
   "cell_type": "code",
   "execution_count": 2,
   "metadata": {},
   "outputs": [
    {
     "ename": "ImportError",
     "evalue": "No module named librosa",
     "output_type": "error",
     "traceback": [
      "\u001b[0;31m---------------------------------------------------------------------------\u001b[0m",
      "\u001b[0;31mImportError\u001b[0m                               Traceback (most recent call last)",
      "\u001b[0;32m<ipython-input-2-3529dd295c8b>\u001b[0m in \u001b[0;36m<module>\u001b[0;34m()\u001b[0m\n\u001b[1;32m      3\u001b[0m \u001b[0;32mimport\u001b[0m \u001b[0mnumpy\u001b[0m \u001b[0;32mas\u001b[0m \u001b[0mnp\u001b[0m\u001b[0;34m\u001b[0m\u001b[0m\n\u001b[1;32m      4\u001b[0m \u001b[0;32mimport\u001b[0m \u001b[0mscipy\u001b[0m\u001b[0;34m.\u001b[0m\u001b[0mspatial\u001b[0m\u001b[0;34m\u001b[0m\u001b[0m\n\u001b[0;32m----> 5\u001b[0;31m \u001b[0;32mimport\u001b[0m \u001b[0mlibrosa\u001b[0m\u001b[0;34m\u001b[0m\u001b[0m\n\u001b[0m\u001b[1;32m      6\u001b[0m \u001b[0;32mfrom\u001b[0m \u001b[0mnumba\u001b[0m \u001b[0;32mimport\u001b[0m \u001b[0mjit\u001b[0m\u001b[0;34m\u001b[0m\u001b[0m\n\u001b[1;32m      7\u001b[0m \u001b[0;32mimport\u001b[0m \u001b[0mmatplotlib\u001b[0m\u001b[0;34m.\u001b[0m\u001b[0mpyplot\u001b[0m \u001b[0;32mas\u001b[0m \u001b[0mplt\u001b[0m\u001b[0;34m\u001b[0m\u001b[0m\n",
      "\u001b[0;31mImportError\u001b[0m: No module named librosa"
     ]
    }
   ],
   "source": [
    "import os\n",
    "import sys\n",
    "import numpy as np\n",
    "import scipy.spatial\n",
    "import librosa\n",
    "from numba import jit\n",
    "import matplotlib.pyplot as plt\n",
    "from matplotlib import patches\n",
    "from matplotlib.ticker import FuncFormatter\n",
    "\n",
    "sys.path.append('..')\n",
    "%matplotlib inline"
   ]
  },
  {
   "cell_type": "code",
   "execution_count": 324,
   "metadata": {},
   "outputs": [],
   "source": [
    "video1 = result_arrs[0][95:120]\n",
    "video2 = result_arrs[2]"
   ]
  },
  {
   "cell_type": "code",
   "execution_count": 325,
   "metadata": {},
   "outputs": [
    {
     "data": {
      "image/png": "[encoded data removed]",
      "text/plain": [
       "<Figure size 432x288 with 1 Axes>"
      ]
     },
     "metadata": {
      "needs_background": "light"
     },
     "output_type": "display_data"
    }
   ],
   "source": [
    "plt.plot(video1,'b', label='x')\n",
    "plt.plot(video2, 'r', label='y')\n",
    "plt.legend();"
   ]
  },
  {
   "cell_type": "code",
   "execution_count": 326,
   "metadata": {},
   "outputs": [
    {
     "name": "stdout",
     "output_type": "stream",
     "text": [
      "Cost matrix C =\n",
      "[[ 1780.81907796  1256.55084397   976.33101146 ... 48077.84944739\n",
      "  48612.50602751 48648.1343767 ]\n",
      " [ 1621.88451649  2056.64566026   865.00955699 ... 49453.01086801\n",
      "  49466.50184208 49517.55011928]\n",
      " [ 2951.31786359  2092.84757652  1697.72480904 ... 49975.42233743\n",
      "  50136.42027113 50134.30996228]\n",
      " ...\n",
      " [ 1654.123646    1822.01551202  2714.86279839 ... 53235.02467375\n",
      "  53372.75856482 53414.81850754]\n",
      " [ 1411.36528791  1546.92801097  2430.32326888 ... 53270.55812687\n",
      "  53492.90977072 53532.55978689]\n",
      " [ 1483.79078985  1822.06196089  2623.58146383 ... 53075.16617229\n",
      "  53204.90602426 53239.09565386]]\n"
     ]
    }
   ],
   "source": [
    "C = scipy.spatial.distance.cdist(video1, video2, 'sqeuclidean')\n",
    "print('Cost matrix C =', C, sep='\\n')"
   ]
  },
  {
   "cell_type": "markdown",
   "metadata": {},
   "source": [
    "### Compute Accumulated Cost Matrix\n",
    "Given the cost matrix, compute the accumulated cost matrix for subsequence dynamic time warping with step sizes {(1, 0), (0, 1), (1, 1)}\n",
    "\n",
    "    Args:\n",
    "        C: cost matrix\n",
    "\n",
    "    Returns:\n",
    "        D: Accumulated cost matrix"
   ]
  },
  {
   "cell_type": "code",
   "execution_count": 327,
   "metadata": {},
   "outputs": [
    {
     "name": "stdout",
     "output_type": "stream",
     "text": [
      "b* = 31\n"
     ]
    }
   ],
   "source": [
    "@jit(nopython=True)\n",
    "def compute_accumulated_cost_matrix(C):\n",
    "    N, M = C.shape\n",
    "    D = np.zeros((N, M))\n",
    "    D[:, 0] = np.cumsum(C[:, 0])\n",
    "    D[0, :] = C[0, :]\n",
    "    for n in range(1, N):\n",
    "        for m in range(1, M):\n",
    "            D[n, m] = C[n, m] + min(D[n-1, m], D[n, m-1], D[n-1, m-1])\n",
    "    return D\n",
    "\n",
    "D =  compute_accumulated_cost_matrix(C)\n",
    "print('b* =', D[-1, :].argmin())"
   ]
  },
  {
   "cell_type": "markdown",
   "metadata": {},
   "source": [
    "### Compute Optimal Warping Path\n",
    "Given an accumulated cost matrix, Compute the warping path for subsequence dynamic time warping with step sizes {(1, 0), (0, 1), (1, 1)}\n",
    "\n",
    "    Args:\n",
    "        D: Accumulated cost matrix\n",
    "\n",
    "    Returns\n",
    "        P: Warping path (list of index pairs)"
   ]
  },
  {
   "cell_type": "code",
   "execution_count": 328,
   "metadata": {},
   "outputs": [
    {
     "name": "stdout",
     "output_type": "stream",
     "text": [
      "Optimal warping path P = [[0, 6], [1, 7], [2, 8], [3, 9], [4, 10], [5, 11], [6, 12], [7, 13], [8, 14], [8, 15], [8, 16], [8, 17], [8, 18], [8, 19], [9, 20], [10, 21], [11, 22], [12, 23], [13, 24], [14, 25], [15, 26], [16, 27], [17, 28], [18, 29], [19, 29], [20, 30], [21, 31], [22, 31], [23, 31], [24, 31]]\n"
     ]
    }
   ],
   "source": [
    "@jit(nopython=True)\n",
    "def compute_optimal_warping_path(D):\n",
    "    N, M = D.shape\n",
    "    n = N - 1\n",
    "    m = D[N - 1, :].argmin()\n",
    "    P = [(n, m)]\n",
    "\n",
    "    while n > 0:\n",
    "        if m == 0:\n",
    "            cell = (n - 1, 0)\n",
    "        else:\n",
    "            val = min(D[n-1, m-1], D[n-1, m], D[n, m-1])\n",
    "            if val == D[n-1, m-1]:\n",
    "                cell = (n-1, m-1)\n",
    "            elif val == D[n-1, m]:\n",
    "                cell = (n-1, m)\n",
    "            else:\n",
    "                cell = (n, m-1)\n",
    "        P.append(cell)\n",
    "        n, m = cell\n",
    "    P.reverse()\n",
    "    return np.array(P)\n",
    "        \n",
    "P = compute_optimal_warping_path(D)\n",
    "path = P.tolist()\n",
    "print('Optimal warping path P =', path)"
   ]
  },
  {
   "cell_type": "code",
   "execution_count": 317,
   "metadata": {},
   "outputs": [
    {
     "name": "stdout",
     "output_type": "stream",
     "text": [
      "We find the sign in the following range of the video: 86 - 112\n"
     ]
    }
   ],
   "source": [
    "print(\"We find the sign in the following range of the video: \"+str(path[0][1])+\" - \"+str(path[len(path)-1][1]))"
   ]
  },
  {
   "cell_type": "code",
   "execution_count": 318,
   "metadata": {},
   "outputs": [
    {
     "data": {
      "image/png": "[encoded data removed]",
      "text/plain": [
       "<Figure size 432x288 with 1 Axes>"
      ]
     },
     "metadata": {
      "needs_background": "light"
     },
     "output_type": "display_data"
    }
   ],
   "source": [
    "x = []\n",
    "y = []\n",
    "for i in range(len(path)):\n",
    "    x.append(path[i][0])\n",
    "    y.append(path[i][1])\n",
    "\n",
    "from matplotlib import pyplot as plt\n",
    "\n",
    "plt.plot(x,y)\n",
    "plt.show()"
   ]
  },
  {
   "cell_type": "code",
   "execution_count": null,
   "metadata": {},
   "outputs": [],
   "source": []
  },
  {
   "cell_type": "code",
   "execution_count": null,
   "metadata": {},
   "outputs": [],
   "source": []
  }
 ],
 "metadata": {
  "kernelspec": {
   "display_name": "Python 2",
   "language": "python",
   "name": "python2"
  },
  "language_info": {
   "codemirror_mode": {
    "name": "ipython",
    "version": 2
   },
   "file_extension": ".py",
   "mimetype": "text/x-python",
   "name": "python",
   "nbconvert_exporter": "python",
   "pygments_lexer": "ipython2",
   "version": "2.7.16"
  }
 },
 "nbformat": 4,
 "nbformat_minor": 2
}
