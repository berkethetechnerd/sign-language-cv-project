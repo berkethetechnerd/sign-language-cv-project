{
 "cells": [
  {
   "cell_type": "code",
   "execution_count": 1,
   "metadata": {},
   "outputs": [],
   "source": [
    "import json\n",
    "import sys\n",
    "import cv2\n",
    "import numpy as np\n",
    "import math\n",
    "import os, sys, shutil\n",
    "import argparse\n",
    "from matplotlib import pyplot as plt\n",
    "from sklearn.datasets.samples_generator import make_blobs\n",
    "from sklearn.cluster import KMeans\n",
    "from sklearn.model_selection import train_test_split\n",
    "from sklearn.preprocessing import StandardScaler\n",
    "from sklearn.cluster import KMeans\n",
    "import os, sys, shutil"
   ]
  },
  {
   "cell_type": "code",
   "execution_count": 2,
   "metadata": {},
   "outputs": [],
   "source": [
    "class Point(object):\n",
    "    def __init__(self, x, y, c):\n",
    "        self.x = x     # x_coordinate of the point\n",
    "        self.y = y     # y_coordinate of the point\n",
    "        self.c = c     # confidence of the point\n",
    "\n",
    "    def __repr__(self):\n",
    "        return 'x: '+ str(self.x) + \", y: \" +str(self.y) + \", c: \" + str(self.c)"
   ]
  },
  {
   "cell_type": "code",
   "execution_count": 3,
   "metadata": {},
   "outputs": [],
   "source": [
    "json_dir = '../../data/Titanik/json_keypoints/video001_keypoints/'\n",
    "list_of_items = os.listdir(json_dir)"
   ]
  },
  {
   "cell_type": "code",
   "execution_count": 4,
   "metadata": {},
   "outputs": [],
   "source": [
    "json_arr = []\n",
    "\n",
    "for i in range(len(list_of_items)):\n",
    "    json_file = str(i) + '.json'\n",
    "    \n",
    "    with open(json_dir + json_file) as file:\n",
    "        json_data = json.loads(file.read())\n",
    "        json_arr.append(json_data)"
   ]
  },
  {
   "cell_type": "code",
   "execution_count": 5,
   "metadata": {},
   "outputs": [],
   "source": [
    "result_arr = []\n",
    "label_arr = []\n"
   ]
  },
  {
   "cell_type": "code",
   "execution_count": 6,
   "metadata": {},
   "outputs": [],
   "source": [
    "for json in range(0, len(json_arr)):\n",
    "    person = json_arr[json]['people'][0]\n",
    "    pose = person['pose_keypoints_2d']\n",
    "    face = person['face_keypoints_2d']\n",
    "    left_hand = person['hand_left_keypoints_2d']\n",
    "    right_hand = person['hand_right_keypoints_2d']\n",
    "\n",
    "    ########## EXTRACT POSE POINTS  ##########\n",
    "    i = 0\n",
    "    pose_points = []\n",
    "    for i in range(0, len(pose), 3):\n",
    "        temp = Point(pose[i],pose[i+1],pose[i+2])\n",
    "        pose_points.append(temp)    # add this point to pose point array\n",
    "        \n",
    "    ########## EXTRACT FACE POINTS  ##########\n",
    "    i = 0\n",
    "    face_points = []\n",
    "    for i in range(0, len(face), 3):\n",
    "        temp = Point(face[i],face[i+1],face[i+2])\n",
    "        face_points.append(temp)    # add this point to pose point array\n",
    "        i+=3\n",
    "\n",
    "    ########## EXTRACT LEFT HAND POINTS  ##########\n",
    "    i = 0\n",
    "    lhand_points = []\n",
    "    for i in range(0, len(left_hand), 3):\n",
    "        temp = Point(left_hand[i],left_hand[i+1],left_hand[i+2])\n",
    "        lhand_points.append(temp)    # add this point to pose point array\n",
    "        i+=3\n",
    "\n",
    "\n",
    "    ########## EXTRACT RIGHT HAND POINTS  ##########\n",
    "    i = 0\n",
    "    rhand_points = []\n",
    "    for i in range(0, len(right_hand), 3):\n",
    "        temp = Point(right_hand[i],right_hand[i+1],right_hand[i+2])\n",
    "        rhand_points.append(temp)    # add this point to pose point array\n",
    "        i+=3\n",
    "    \n",
    "    # neck: 1, nose: 0,\n",
    "    # left: 4, right: 7\n",
    "    \n",
    "    # CALCULATE LEFT DISTANCE\n",
    "    left_to_neck = math.sqrt((math.pow(pose_points[4].x-pose_points[1].x,2)+math.pow(pose_points[4].y-pose_points[1].y,2)))\n",
    "    left_to_nose = math.sqrt((math.pow(pose_points[4].x-pose_points[0].x,2)+math.pow(pose_points[4].y-pose_points[0].y,2)))\n",
    "    \n",
    "    threshold = 0.1\n",
    "    if pose_points[4].c < threshold:\n",
    "        left_to_neck = 0\n",
    "        left_to_nose = 0\n",
    "    \n",
    "    # CALCULATE RIGHT DISTANCE\n",
    "    right_to_neck = math.sqrt((math.pow(pose_points[7].x-pose_points[1].x,2)+math.pow(pose_points[7].y-pose_points[1].y,2)))\n",
    "    right_to_nose = math.sqrt((math.pow(pose_points[7].x-pose_points[0].x,2)+math.pow(pose_points[7].y-pose_points[0].y,2)))\n",
    "    if pose_points[4].c < threshold:\n",
    "        right_to_neck = 0\n",
    "        right_to_nose = 0\n",
    "    \n",
    "    # CALCULATE LEFT FINGERS\n",
    "    l_thumb = math.sqrt((math.pow(lhand_points[4].x-rhand_points[0].x,2)+math.pow(lhand_points[4].y-rhand_points[0].y,2)))\n",
    "    l_index = math.sqrt((math.pow(lhand_points[8].x-rhand_points[0].x,2)+math.pow(lhand_points[8].y-rhand_points[0].y,2)))\n",
    "    l_middle = math.sqrt((math.pow(lhand_points[12].x-rhand_points[0].x,2)+math.pow(lhand_points[12].y-rhand_points[0].y,2)))\n",
    "    l_ring = math.sqrt((math.pow(lhand_points[16].x-rhand_points[0].x,2)+math.pow(lhand_points[16].y-rhand_points[0].y,2)))\n",
    "    l_pinky = math.sqrt((math.pow(lhand_points[20].x-rhand_points[0].x,2)+math.pow(lhand_points[20].y-rhand_points[0].y,2)))\n",
    "    \n",
    "    if lhand_points[4].c < threshold:\n",
    "        l_thumb = 0\n",
    "\n",
    "    if lhand_points[8].c < threshold:\n",
    "        l_index = 0\n",
    "\n",
    "    if lhand_points[12].c < threshold:\n",
    "        l_middle = 0\n",
    "        \n",
    "    if lhand_points[16].c < threshold:\n",
    "        l_ring = 0\n",
    "        \n",
    "    if lhand_points[20].c < threshold:\n",
    "        l_pinky = 0\n",
    "        \n",
    "    \n",
    "    # CALCULATE RIGHT FINGERS\n",
    "    r_thumb = math.sqrt((math.pow(rhand_points[4].x-rhand_points[0].x,2)+math.pow(rhand_points[4].y-rhand_points[0].y,2)))\n",
    "    r_index = math.sqrt((math.pow(rhand_points[8].x-rhand_points[0].x,2)+math.pow(rhand_points[8].y-rhand_points[0].y,2)))\n",
    "    r_middle = math.sqrt((math.pow(rhand_points[12].x-rhand_points[0].x,2)+math.pow(rhand_points[12].y-rhand_points[0].y,2)))\n",
    "    r_ring = math.sqrt((math.pow(rhand_points[16].x-rhand_points[0].x,2)+math.pow(rhand_points[16].y-rhand_points[0].y,2)))\n",
    "    r_pinky = math.sqrt((math.pow(rhand_points[20].x-rhand_points[0].x,2)+math.pow(rhand_points[20].y-rhand_points[0].y,2)))\n",
    "            \n",
    "    if rhand_points[4].c < threshold:\n",
    "        r_thumb = 0\n",
    "        \n",
    "    if rhand_points[8].c < threshold:\n",
    "        r_index = 0\n",
    "        \n",
    "    if rhand_points[12].c < threshold:\n",
    "        r_middle = 0\n",
    "        \n",
    "    if rhand_points[16].c < threshold:\n",
    "        r_ring = 0\n",
    "        \n",
    "    if rhand_points[20].c < threshold:\n",
    "        r_pinky = 0\n",
    "            \n",
    "    #temp_arr = [left_to_neck, left_to_nose, right_to_neck, right_to_nose, l_thumb, l_index, l_middle, l_ring, l_pinky,\n",
    "     #          r_thumb, r_index, r_middle, r_ring, r_pinky]\n",
    "        \n",
    "    temp_arr = [left_to_neck, left_to_nose, right_to_neck, right_to_nose]\n",
    "    \n",
    "    result_arr.append(temp_arr)\n",
    "    label_arr.append(json)\n",
    "    "
   ]
  },
  {
   "cell_type": "code",
   "execution_count": 7,
   "metadata": {},
   "outputs": [],
   "source": [
    "for feature in range(len(result_arr[0])):\n",
    "    for index in range(len(result_arr)):\n",
    "        value = result_arr[index][feature]\n",
    "\n",
    "        if value == 0:\n",
    "            for next_index in range(index + 1, len(result_arr)):\n",
    "                next_value = result_arr[next_index][feature]\n",
    "\n",
    "                if(next_value != 0):\n",
    "                    linear_down_val = result_arr[index - 1][feature]\n",
    "                    linear_up_val = result_arr[next_index][feature]\n",
    "\n",
    "                    linear_index_diff = next_index - (index - 1)\n",
    "                    linear_val_diff_per_index = (linear_up_val - linear_down_val) / linear_index_diff\n",
    "\n",
    "                    for fix_index in range(index, next_index):\n",
    "                        linear_down_val += linear_val_diff_per_index\n",
    "                        result_arr[fix_index][feature] = linear_down_val\n",
    "\n",
    "                    break\n",
    "    "
   ]
  },
  {
   "cell_type": "code",
   "execution_count": 8,
   "metadata": {},
   "outputs": [
    {
     "name": "stdout",
     "output_type": "stream",
     "text": [
      "0 is done.\n",
      "1 is done.\n",
      "2 is done.\n",
      "3 is done.\n"
     ]
    }
   ],
   "source": [
    "points_error = []\n",
    "for feature in range(len(result_arr[0])):\n",
    "    for index in range(len(result_arr)):\n",
    "        if result_arr[index][feature] == 0:\n",
    "            points_error.append(index)\n",
    "            break\n",
    "            \n",
    "    print(str(feature) + \" is done.\")"
   ]
  },
  {
   "cell_type": "code",
   "execution_count": 9,
   "metadata": {},
   "outputs": [],
   "source": [
    "result_arr = np.asarray(result_arr)\n",
    "label_arr = np.asarray(label_arr)\n",
    "\n",
    "if(len(points_error) != 0):\n",
    "    slice_point = min(points_error)\n",
    "\n",
    "    label_arr = label_arr[0:slice_point]\n",
    "    result_arr = result_arr[0:slice_point, :]\n",
    "\n",
    "    print(result_arr.shape)"
   ]
  },
  {
   "cell_type": "code",
   "execution_count": 10,
   "metadata": {},
   "outputs": [
    {
     "data": {
      "image/png": "[encoded data removed]",
      "text/plain": [
       "<Figure size 432x288 with 1 Axes>"
      ]
     },
     "metadata": {
      "needs_background": "light"
     },
     "output_type": "display_data"
    }
   ],
   "source": [
    "x_axis = result_arr[:,1]  # left distance\n",
    "y_axis = result_arr[:,3]  # right distance\n",
    "\n",
    "# Plotting\n",
    "plt.scatter(x_axis, y_axis)\n",
    "plt.show()"
   ]
  },
  {
   "cell_type": "code",
   "execution_count": 11,
   "metadata": {},
   "outputs": [],
   "source": [
    "max_value = max([max(result_arr[i]) for i in range(len(result_arr))])\n",
    "result_arr = result_arr / max_value"
   ]
  },
  {
   "cell_type": "code",
   "execution_count": 12,
   "metadata": {},
   "outputs": [
    {
     "data": {
      "text/plain": [
       "KMeans(algorithm='auto', copy_x=True, init='k-means++', max_iter=300,\n",
       "       n_clusters=10, n_init=10, n_jobs=None, precompute_distances='auto',\n",
       "       random_state=None, tol=0.0001, verbose=0)"
      ]
     },
     "execution_count": 12,
     "metadata": {},
     "output_type": "execute_result"
    }
   ],
   "source": [
    "num_of_cluster = 10\n",
    "\n",
    "model = KMeans(n_clusters=num_of_cluster)\n",
    "model.fit(result_arr)"
   ]
  },
  {
   "cell_type": "code",
   "execution_count": 13,
   "metadata": {},
   "outputs": [],
   "source": [
    "all_predictions = model.predict(result_arr)"
   ]
  },
  {
   "cell_type": "code",
   "execution_count": 14,
   "metadata": {},
   "outputs": [],
   "source": [
    "for i in range(num_of_cluster):\n",
    "    path_name = \"./\" + str(i)\n",
    "    if not os.path.exists(path_name):\n",
    "        os.mkdir(path_name)\n",
    "    \n",
    "for i in range(len(all_predictions)):\n",
    "    shutil.copy(\"../../data/Titanik/frames/video001_frames_openpose/frame\"+str(label_arr[i])+\".jpg\", \"./\"+str(all_predictions[i]), follow_symlinks=True)"
   ]
  },
  {
   "cell_type": "code",
   "execution_count": 16,
   "metadata": {},
   "outputs": [
    {
     "ename": "ModuleNotFoundError",
     "evalue": "No module named 'fastdtw'",
     "output_type": "error",
     "traceback": [
      "\u001b[0;31m---------------------------------------------------------------------------\u001b[0m",
      "\u001b[0;31mModuleNotFoundError\u001b[0m                       Traceback (most recent call last)",
      "\u001b[0;32m<ipython-input-16-c70509207f2d>\u001b[0m in \u001b[0;36m<module>\u001b[0;34m\u001b[0m\n\u001b[1;32m      1\u001b[0m \u001b[0;32mfrom\u001b[0m \u001b[0mscipy\u001b[0m\u001b[0;34m.\u001b[0m\u001b[0mspatial\u001b[0m\u001b[0;34m.\u001b[0m\u001b[0mdistance\u001b[0m \u001b[0;32mimport\u001b[0m \u001b[0meuclidean\u001b[0m\u001b[0;34m\u001b[0m\u001b[0;34m\u001b[0m\u001b[0m\n\u001b[1;32m      2\u001b[0m \u001b[0;34m\u001b[0m\u001b[0m\n\u001b[0;32m----> 3\u001b[0;31m \u001b[0;32mfrom\u001b[0m \u001b[0mfastdtw\u001b[0m \u001b[0;32mimport\u001b[0m \u001b[0mfastdtw\u001b[0m\u001b[0;34m\u001b[0m\u001b[0;34m\u001b[0m\u001b[0m\n\u001b[0m\u001b[1;32m      4\u001b[0m \u001b[0;34m\u001b[0m\u001b[0m\n\u001b[1;32m      5\u001b[0m \u001b[0mx\u001b[0m \u001b[0;34m=\u001b[0m \u001b[0mnp\u001b[0m\u001b[0;34m.\u001b[0m\u001b[0marray\u001b[0m\u001b[0;34m(\u001b[0m\u001b[0;34m[\u001b[0m\u001b[0;34m[\u001b[0m\u001b[0;36m1\u001b[0m\u001b[0;34m,\u001b[0m\u001b[0;36m1\u001b[0m\u001b[0;34m]\u001b[0m\u001b[0;34m,\u001b[0m \u001b[0;34m[\u001b[0m\u001b[0;36m2\u001b[0m\u001b[0;34m,\u001b[0m\u001b[0;36m2\u001b[0m\u001b[0;34m]\u001b[0m\u001b[0;34m,\u001b[0m \u001b[0;34m[\u001b[0m\u001b[0;36m3\u001b[0m\u001b[0;34m,\u001b[0m\u001b[0;36m3\u001b[0m\u001b[0;34m]\u001b[0m\u001b[0;34m,\u001b[0m \u001b[0;34m[\u001b[0m\u001b[0;36m4\u001b[0m\u001b[0;34m,\u001b[0m\u001b[0;36m4\u001b[0m\u001b[0;34m]\u001b[0m\u001b[0;34m,\u001b[0m \u001b[0;34m[\u001b[0m\u001b[0;36m5\u001b[0m\u001b[0;34m,\u001b[0m\u001b[0;36m5\u001b[0m\u001b[0;34m]\u001b[0m\u001b[0;34m]\u001b[0m\u001b[0;34m)\u001b[0m\u001b[0;34m\u001b[0m\u001b[0;34m\u001b[0m\u001b[0m\n",
      "\u001b[0;31mModuleNotFoundError\u001b[0m: No module named 'fastdtw'"
     ]
    }
   ],
   "source": [
    "from scipy.spatial.distance import euclidean\n",
    "from fastdtw import fastdtw\n",
    "\n",
    "x = np.array([[1,1], [2,2], [3,3], [4,4], [5,5]])\n",
    "y = np.array([[2,2], [3,3], [4,4]])\n",
    "distance, path = fastdtw(x, y, dist=euclidean)\n",
    "print(distance)"
   ]
  },
  {
   "cell_type": "code",
   "execution_count": null,
   "metadata": {},
   "outputs": [],
   "source": []
  }
 ],
 "metadata": {
  "kernelspec": {
   "display_name": "Python 2",
   "language": "python",
   "name": "python2"
  },
  "language_info": {
   "codemirror_mode": {
    "name": "ipython",
    "version": 3
   },
   "file_extension": ".py",
   "mimetype": "text/x-python",
   "name": "python",
   "nbconvert_exporter": "python",
   "pygments_lexer": "ipython3",
   "version": "3.7.5"
  }
 },
 "nbformat": 4,
 "nbformat_minor": 2
}
