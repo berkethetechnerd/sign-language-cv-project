{
 "cells": [
  {
   "cell_type": "code",
   "execution_count": 1,
   "metadata": {},
   "outputs": [],
   "source": [
    "'''\n",
    "@Params: directory of json files and directory of corresponding frames. Make sure that json files has name like <number>.json\n",
    "        for example: 897.json and the corresponding image file has name frame_897.jpg\n",
    "\n",
    "TO RUN\n",
    "command: python classify_data_by_angle.py -j <json_files_directory> -f <frames_directory>\n",
    "\n",
    "OUTPUT: two directory: one for up images and the other is for down images\n",
    "'''\n",
    "\n",
    "import json\n",
    "import sys\n",
    "import cv2\n",
    "import numpy as np\n",
    "import math\n",
    "import os, sys, shutil\n",
    "import argparse\n",
    "from matplotlib import pyplot as plt\n",
    "from sklearn.datasets.samples_generator import make_blobs\n",
    "from sklearn.cluster import KMeans\n",
    "from sklearn.model_selection import train_test_split\n",
    "from sklearn.preprocessing import StandardScaler\n",
    "from sklearn.cluster import KMeans\n",
    "import os, sys, shutil"
   ]
  },
  {
   "cell_type": "code",
   "execution_count": 2,
   "metadata": {},
   "outputs": [],
   "source": [
    "class Point(object):\n",
    "    def __init__(self, x, y, c):\n",
    "        self.x=x     # x_coordinate of the point\n",
    "        self.y=y     # y_coordinate of the point\n",
    "        self.c=c     # confidence of the point\n",
    "\n",
    "    def __repr__(self):\n",
    "        return 'x: '+str(self.x)+\", y: \"+str(self.y)+\", c: \"+str(self.c)"
   ]
  },
  {
   "cell_type": "code",
   "execution_count": 3,
   "metadata": {},
   "outputs": [],
   "source": [
    "jsons_dir = './json/'"
   ]
  },
  {
   "cell_type": "code",
   "execution_count": 4,
   "metadata": {},
   "outputs": [],
   "source": [
    "result_arr = []\n",
    "label_arr = []"
   ]
  },
  {
   "cell_type": "code",
   "execution_count": 5,
   "metadata": {},
   "outputs": [],
   "source": [
    "for json_file in os.listdir(jsons_dir):\n",
    "\n",
    "    json_no = str((json_file.split('.')[0]))\n",
    "    with open(jsons_dir+json_file) as f:\n",
    "        data = json.loads(f.read())\n",
    "\n",
    "    person = data['people'][0]\n",
    "    pose= person['pose_keypoints_2d']\n",
    "    face = person['face_keypoints_2d']\n",
    "    left_hand = person['hand_left_keypoints_2d']\n",
    "    right_hand = person['hand_right_keypoints_2d']\n",
    "\n",
    "    ########## EXTRACT POSE POINTS  ##########\n",
    "    i = 0\n",
    "    pose_points = []\n",
    "    for i in range(0, len(pose), 3):\n",
    "        temp = Point(pose[i],pose[i+1],pose[i+2])\n",
    "        pose_points.append(temp)    # add this point to pose point array\n",
    "\n",
    "    ########## EXTRACT FACE POINTS  ##########\n",
    "    i = 0\n",
    "    face_points = []\n",
    "    for i in range(0, len(face), 3):\n",
    "        temp = Point(face[i],face[i+1],face[i+2])\n",
    "        face_points.append(temp)    # add this point to pose point array\n",
    "        i+=3\n",
    "\n",
    "\n",
    "    ########## EXTRACT LEFT HAND POINTS  ##########\n",
    "    i = 0\n",
    "    lhand_points = []\n",
    "    for i in range(0, len(left_hand), 3):\n",
    "        temp = Point(left_hand[i],left_hand[i+1],left_hand[i+2])\n",
    "        lhand_points.append(temp)    # add this point to pose point array\n",
    "        i+=3\n",
    "\n",
    "\n",
    "    ########## EXTRACT RIGHT HAND POINTS  ##########\n",
    "    i = 0\n",
    "    rhand_points = []\n",
    "    for i in range(0, len(right_hand), 3):\n",
    "        temp = Point(right_hand[i],right_hand[i+1],right_hand[i+2])\n",
    "        rhand_points.append(temp)    # add this point to pose point array\n",
    "        i+=3\n",
    "    \n",
    "    # neck:1, nose: 0,\n",
    "    #left: 4, right: 7\n",
    "    \n",
    "    # CALCULATE LEFT DISTANCE\n",
    "    left_to_neck = math.sqrt((math.pow(pose_points[4].x-pose_points[1].x,2)+math.pow(pose_points[4].y-pose_points[1].y,2)))\n",
    "    left_to_nose = math.sqrt((math.pow(pose_points[4].x-pose_points[0].x,2)+math.pow(pose_points[4].y-pose_points[0].y,2)))\n",
    "    \n",
    "    threshold = 0.1\n",
    "    if pose_points[4].c < threshold:\n",
    "        left_to_neck = None\n",
    "        left_to_nose = None\n",
    "        continue\n",
    "    \n",
    "    # CALCULATE RIGHT DISTANCE\n",
    "    right_to_neck = math.sqrt((math.pow(pose_points[7].x-pose_points[1].x,2)+math.pow(pose_points[7].y-pose_points[1].y,2)))\n",
    "    right_to_nose = math.sqrt((math.pow(pose_points[7].x-pose_points[0].x,2)+math.pow(pose_points[7].y-pose_points[0].y,2)))\n",
    "    if pose_points[4].c < threshold:\n",
    "        right_to_neck = None\n",
    "        right_to_nose = None\n",
    "        continue\n",
    "    \n",
    "    # CALCULATE LEFT FINGERS\n",
    "    l_thumb = math.sqrt((math.pow(lhand_points[4].x-rhand_points[0].x,2)+math.pow(lhand_points[4].y-rhand_points[0].y,2)))\n",
    "    l_index = math.sqrt((math.pow(lhand_points[8].x-rhand_points[0].x,2)+math.pow(lhand_points[8].y-rhand_points[0].y,2)))\n",
    "    l_middle = math.sqrt((math.pow(lhand_points[12].x-rhand_points[0].x,2)+math.pow(lhand_points[12].y-rhand_points[0].y,2)))\n",
    "    l_ring = math.sqrt((math.pow(lhand_points[16].x-rhand_points[0].x,2)+math.pow(lhand_points[16].y-rhand_points[0].y,2)))\n",
    "    l_pinky = math.sqrt((math.pow(lhand_points[20].x-rhand_points[0].x,2)+math.pow(lhand_points[20].y-rhand_points[0].y,2)))\n",
    "    \n",
    "    if lhand_points[4].c < threshold:\n",
    "        l_thumb = None\n",
    "        continue\n",
    "    if lhand_points[8].c < threshold:\n",
    "        l_index = None\n",
    "        continue\n",
    "    if lhand_points[12].c < threshold:\n",
    "        l_middle = None\n",
    "        continue\n",
    "    if lhand_points[16].c < threshold:\n",
    "        l_ring = None\n",
    "        continue\n",
    "    if lhand_points[20].c < threshold:\n",
    "        l_pinky = None\n",
    "        continue\n",
    "    \n",
    "    # CALCULATE RIGHT FINGERS\n",
    "    r_thumb = math.sqrt((math.pow(rhand_points[4].x-rhand_points[0].x,2)+math.pow(rhand_points[4].y-rhand_points[0].y,2)))\n",
    "    r_index = math.sqrt((math.pow(rhand_points[8].x-rhand_points[0].x,2)+math.pow(rhand_points[8].y-rhand_points[0].y,2)))\n",
    "    r_middle = math.sqrt((math.pow(rhand_points[12].x-rhand_points[0].x,2)+math.pow(rhand_points[12].y-rhand_points[0].y,2)))\n",
    "    r_ring = math.sqrt((math.pow(rhand_points[16].x-rhand_points[0].x,2)+math.pow(rhand_points[16].y-rhand_points[0].y,2)))\n",
    "    r_pinky = math.sqrt((math.pow(rhand_points[20].x-rhand_points[0].x,2)+math.pow(rhand_points[20].y-rhand_points[0].y,2)))\n",
    "    \n",
    "            \n",
    "    if rhand_points[4].c < threshold:\n",
    "        r_thumb = None\n",
    "        continue\n",
    "    if rhand_points[8].c < threshold:\n",
    "        r_index = None\n",
    "        continue\n",
    "    if rhand_points[12].c < threshold:\n",
    "        r_middle = None\n",
    "        continue\n",
    "    if rhand_points[16].c < threshold:\n",
    "        r_ring = None\n",
    "        continue\n",
    "    if rhand_points[20].c < threshold:\n",
    "        r_pinky = None\n",
    "        continue\n",
    "            \n",
    "    \n",
    "    temp_arr = [left_to_neck, left_to_nose, right_to_neck, right_to_nose, l_thumb, l_index, l_middle, l_ring, l_pinky,\n",
    "               r_thumb, r_index, r_middle, r_ring, r_pinky]\n",
    "    \n",
    "    result_arr.append(temp_arr)\n",
    "    label_arr.append(json_no)\n",
    "    #print(str(len(result_arr))+\", \"+str(len(label_arr))+\", \"+str(json_no))"
   ]
  },
  {
   "cell_type": "code",
   "execution_count": 6,
   "metadata": {},
   "outputs": [],
   "source": [
    "res = np.asarray(result_arr)\n",
    "label = np.asarray(label_arr)\n",
    "x = np.zeros(431)"
   ]
  },
  {
   "cell_type": "code",
   "execution_count": 7,
   "metadata": {},
   "outputs": [
    {
     "data": {
      "image/png": "[encoded data removed]",
      "text/plain": [
       "<Figure size 432x288 with 1 Axes>"
      ]
     },
     "metadata": {
      "needs_background": "light"
     },
     "output_type": "display_data"
    }
   ],
   "source": [
    "x_axis = res[:,0]  # left distance\n",
    "y_axis = res[:,2]  # right distance\n",
    "\n",
    "# Plotting\n",
    "plt.scatter(x_axis, y_axis, c=x)\n",
    "plt.show()"
   ]
  },
  {
   "cell_type": "code",
   "execution_count": 8,
   "metadata": {},
   "outputs": [
    {
     "data": {
      "text/plain": [
       "KMeans(algorithm='auto', copy_x=True, init='k-means++', max_iter=300,\n",
       "       n_clusters=10, n_init=10, n_jobs=None, precompute_distances='auto',\n",
       "       random_state=None, tol=0.0001, verbose=0)"
      ]
     },
     "execution_count": 8,
     "metadata": {},
     "output_type": "execute_result"
    }
   ],
   "source": [
    "model = KMeans(n_clusters=10)\n",
    "model.fit(res)"
   ]
  },
  {
   "cell_type": "code",
   "execution_count": 9,
   "metadata": {},
   "outputs": [
    {
     "data": {
      "text/plain": [
       "array([[187.88227741, 296.91614376, 108.72914201, 153.31818486,\n",
       "        260.30842932, 280.54584287, 261.81443585, 242.83123676,\n",
       "        219.74012861,  84.62736016, 103.66740056, 105.15763493,\n",
       "        102.40019664, 101.92989253],\n",
       "       [146.56330487, 259.17399375, 119.02041321, 159.34300479,\n",
       "        258.65608345, 266.53238065, 248.02808392, 225.00228231,\n",
       "        193.95038285,  88.9288691 , 100.73782172, 101.54732141,\n",
       "         97.42116411,  98.60407104],\n",
       "       [126.66164736, 237.45092351, 125.62630248, 163.90672751,\n",
       "        248.4295425 , 247.21059706, 227.03709962, 200.03551429,\n",
       "        172.29023324,  85.31783885, 100.4742254 , 100.32583143,\n",
       "        105.45507692, 100.23090439]])"
      ]
     },
     "execution_count": 9,
     "metadata": {},
     "output_type": "execute_result"
    }
   ],
   "source": [
    "res[:3]"
   ]
  },
  {
   "cell_type": "code",
   "execution_count": 10,
   "metadata": {
    "scrolled": true
   },
   "outputs": [
    {
     "name": "stdout",
     "output_type": "stream",
     "text": [
      "[4]\n",
      "[4 2 2 2 6 6 6 6 6 6 6 7 7 7 7 7 7 7 7 7 7 0 2 1 1 9 9 9 9 9 9 9 9 9 9 9 9\n",
      " 9 9 9 9 9 9 9 3 3 3 3 3 3 3 3 5 5 5 5 5 5 5 5 5 5 9 2 4 4 4 4 8 8 0 0 0 0\n",
      " 0 5 5 5 5 5 5 5 5 5 5 9 9 5 1 1 1 9 9 1 1 1 1 1 1 5 5 5 5 7 6 6 6 6 6 6 7\n",
      " 5 7 7 0 0 0 4 3 3 3 3 2 1 5 1 3 3 2 2 9 9 2 2 2 2 9 9 1 1 1 5 3 3 3 2 2 2\n",
      " 7 7 0 0 0 0 0 8 8 8 8 8 8 8 6 6 6 6 7 7 5 5 5 5 5 5 5 5 5 5 9 2 2 9 9 9 5\n",
      " 5 6 6 6 6 6 6 6 5 5 5 2 2 2 4 4 4 4 4 4 4 4 4 4 4 4 4 4 4 8 8 8 0 0 0 0 7\n",
      " 5 3 3 3 5 1 1 1 1 1 1 1 9 2 1 1 5 5 5 3 3 0 0 0 3 0 0 5 5 3 3 3 9 9 9 1 3\n",
      " 3 5 5 5 5 5 5 5 5 5 5 0 0 0 0 0 5 5 5 5 6 8 7 6 5 5 5 8 5 3 3 3 3 5 5 5 6\n",
      " 1 1 1 5 1 1 1 5 5 3 5 5 5 1 5 5 5 5 5 5 1 1 5 1 2 4 4 9 9 6 6 6 6 6 7 7 7\n",
      " 7 7 7 7 7 7 7 7 7 7 7 7 7 2 2 2 2 8 2 2 2 2 2 2 9 1 5 5 3 3 9 9 9 9 9 9 3\n",
      " 3 3 3 3 3 3 1 1 5 5 1 1 1 1 5 5 5 5 1 9 9 6 6 6 7 7 7 6 6 2 2 6 6 6 6 6 2\n",
      " 6 6 6 6 6 6 6 6 6 6 7 7 8 8 8 8 8 8 8 8 8 8 8 0]\n"
     ]
    }
   ],
   "source": [
    "predicted_label = model.predict([[187.88227741, 296.91614376, 108.72914201, 153.31818486,\n",
    "        260.30842932, 280.54584287, 261.81443585, 242.83123676,\n",
    "        219.74012861,  84.62736016, 103.66740056, 105.15763493,\n",
    "        102.40019664, 101.92989253]])\n",
    "\n",
    "all_predictions = model.predict(res)\n",
    "\n",
    "# Printing Predictions\n",
    "print(predicted_label)\n",
    "print(all_predictions)"
   ]
  },
  {
   "cell_type": "code",
   "execution_count": 14,
   "metadata": {},
   "outputs": [],
   "source": [
    "for i in range(0,9):\n",
    "    os.mkdir(\"./\"+str(i))"
   ]
  },
  {
   "cell_type": "code",
   "execution_count": 15,
   "metadata": {},
   "outputs": [],
   "source": [
    "for i in range(len(all_predictions)):\n",
    "    shutil.copy(\"./frames/frame\"+str(label[i])+\".jpg\", \"./\"+str(all_predictions[i]), follow_symlinks=True)"
   ]
  },
  {
   "cell_type": "code",
   "execution_count": null,
   "metadata": {},
   "outputs": [],
   "source": []
  },
  {
   "cell_type": "code",
   "execution_count": null,
   "metadata": {},
   "outputs": [],
   "source": []
  },
  {
   "cell_type": "code",
   "execution_count": null,
   "metadata": {},
   "outputs": [],
   "source": []
  },
  {
   "cell_type": "code",
   "execution_count": 6,
   "metadata": {},
   "outputs": [
    {
     "data": {
      "text/plain": [
       "\"\\nsc = StandardScaler()  # Load the standard scaler\\nsc.fit(result_arr)  # Compute the mean and standard deviation of the feature data\\nX_scaled = sc.transform(result_arr)  # Scale the feature data to be of mean 0 and variance 1\\n\\ny = label_arr\\n\\nprint(len(X_scaled))\\nlen(y)\\n\\nX_train, X_test, y_train, y_test = train_test_split(X_scaled, y, test_size=.3, random_state=1)  \\n\\n\\n# Split the dataset into 30% testing, and 70% training \\n\\nerror = []\\nfor n in range(1, 10):\\n    kmeans = KMeans(n_clusters=n, random_state=0)\\n    kmeans.fit(X_train)\\n    error.append(kmeans.inertia_)\\n    \\nplt.plot(range(1, 10), error)\\nplt.scatter(3, error[2], c='r', marker='x', label='Elbow')\\nplt.legend()\\nplt.title('The Elbow Method')\\nplt.xlabel('Number of clusters')\\nplt.ylabel('Distortion') # Within cluster sum of squares\\nplt.show()\\n\\n\\n\\n\\n# Applying k-Means to the dataset with k=3 clusters\\nkmeans = KMeans(n_clusters=3, random_state=0)\\ny_kmeans = kmeans.fit_predict(X_train)\\n\\n\\n#plt.scatter(X_train)\\nplt.scatter(kmeans.cluster_centers_[:, 0], kmeans.cluster_centers_[:,1], s=100, c='red', label='Centroids')\\nplt.legend()\\n\\n\\n#Visualising the clusters\\nplt.scatter(X_train[y_kmeans == 0, 0], X_train[y_kmeans == 0, 1], s = 100, c = 'red', label = 'Iris-setosa')\\nplt.scatter(X_train[y_kmeans == 1, 0], X_train[y_kmeans == 1, 1], s = 100, c = 'blue', label = 'Iris-versicolour')\\nplt.scatter(X_train[y_kmeans == 2, 0], X_train[y_kmeans == 2, 1], s = 100, c = 'green', label = 'Iris-virginica')\\n\\n#Plotting the centroids of the clusters\\nplt.scatter(kmeans.cluster_centers_[:, 0], kmeans.cluster_centers_[:,1], s = 100, c = 'yellow', label = 'Centroids')\\n\\nplt.legend()\\n\""
      ]
     },
     "execution_count": 6,
     "metadata": {},
     "output_type": "execute_result"
    }
   ],
   "source": [
    "'''\n",
    "sc = StandardScaler()  # Load the standard scaler\n",
    "sc.fit(result_arr)  # Compute the mean and standard deviation of the feature data\n",
    "X_scaled = sc.transform(result_arr)  # Scale the feature data to be of mean 0 and variance 1\n",
    "\n",
    "y = label_arr\n",
    "\n",
    "print(len(X_scaled))\n",
    "len(y)\n",
    "\n",
    "X_train, X_test, y_train, y_test = train_test_split(X_scaled, y, test_size=.3, random_state=1)  \n",
    "\n",
    "\n",
    "# Split the dataset into 30% testing, and 70% training \n",
    "\n",
    "error = []\n",
    "for n in range(1, 10):\n",
    "    kmeans = KMeans(n_clusters=n, random_state=0)\n",
    "    kmeans.fit(X_train)\n",
    "    error.append(kmeans.inertia_)\n",
    "    \n",
    "plt.plot(range(1, 10), error)\n",
    "plt.scatter(3, error[2], c='r', marker='x', label='Elbow')\n",
    "plt.legend()\n",
    "plt.title('The Elbow Method')\n",
    "plt.xlabel('Number of clusters')\n",
    "plt.ylabel('Distortion') # Within cluster sum of squares\n",
    "plt.show()\n",
    "\n",
    "\n",
    "\n",
    "\n",
    "# Applying k-Means to the dataset with k=3 clusters\n",
    "kmeans = KMeans(n_clusters=3, random_state=0)\n",
    "y_kmeans = kmeans.fit_predict(X_train)\n",
    "\n",
    "\n",
    "#plt.scatter(X_train)\n",
    "plt.scatter(kmeans.cluster_centers_[:, 0], kmeans.cluster_centers_[:,1], s=100, c='red', label='Centroids')\n",
    "plt.legend()\n",
    "\n",
    "\n",
    "#Visualising the clusters\n",
    "plt.scatter(X_train[y_kmeans == 0, 0], X_train[y_kmeans == 0, 1], s = 100, c = 'red', label = 'Iris-setosa')\n",
    "plt.scatter(X_train[y_kmeans == 1, 0], X_train[y_kmeans == 1, 1], s = 100, c = 'blue', label = 'Iris-versicolour')\n",
    "plt.scatter(X_train[y_kmeans == 2, 0], X_train[y_kmeans == 2, 1], s = 100, c = 'green', label = 'Iris-virginica')\n",
    "\n",
    "#Plotting the centroids of the clusters\n",
    "plt.scatter(kmeans.cluster_centers_[:, 0], kmeans.cluster_centers_[:,1], s = 100, c = 'yellow', label = 'Centroids')\n",
    "\n",
    "plt.legend()\n",
    "'''"
   ]
  },
  {
   "cell_type": "code",
   "execution_count": null,
   "metadata": {},
   "outputs": [],
   "source": []
  },
  {
   "cell_type": "code",
   "execution_count": null,
   "metadata": {},
   "outputs": [],
   "source": []
  }
 ],
 "metadata": {
  "kernelspec": {
   "display_name": "Python 3",
   "language": "python",
   "name": "python3"
  },
  "language_info": {
   "codemirror_mode": {
    "name": "ipython",
    "version": 3
   },
   "file_extension": ".py",
   "mimetype": "text/x-python",
   "name": "python",
   "nbconvert_exporter": "python",
   "pygments_lexer": "ipython3",
   "version": "3.6.5"
  }
 },
 "nbformat": 4,
 "nbformat_minor": 2
}
